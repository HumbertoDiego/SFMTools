{
 "cells": [
  {
   "cell_type": "markdown",
   "id": "b9d1bac6",
   "metadata": {},
   "source": [
    "## Sumário\n",
    "\n",
    "1. Fototriangulação pelo método dos feixes perspectivos (bundle adjustment) - Visão geral e planejamento\n",
    "\n",
    "2. Formulação do Bundle Adjustment\n"
   ]
  },
  {
   "cell_type": "markdown",
   "id": "28ce8ea6",
   "metadata": {},
   "source": [
    "## 1. Fototriangulação pelo método dos feixes perspectivos (bundle adjustment) - Visão geral e planejamento"
   ]
  },
  {
   "cell_type": "markdown",
   "id": "d58b0169",
   "metadata": {},
   "source": [
    "Geração de um modelo fotogramétrico único ao ajustar simultaneamente os parâmetros da orientação exterior das imagens e as coordenadas dos pontos no espaço, <u>garantindo maior precisão na reconstrução tridimensional</u>.\n",
    "\n",
    "Objetiva determinar as coordenadas 3D de pontos no terreno a partir de várias fotografias aéreas."
   ]
  },
  {
   "cell_type": "markdown",
   "id": "b6ceb544",
   "metadata": {},
   "source": [
    "| Método     | Parâmetros |\n",
    "| ------------- | ------------- | \n",
    "| <img src=\"data/fototriangulação_analítica.png\" width=400 > | Bundle Adjustment:<br>• Os pontos correspondentes de coordenadas conhecidas (GCP) podem estar presentes em até seis imagens (bloco) ao mesmo tempo e isso será levado em conta no ajustamento; <br>• Melhor aproveitamento da sobreposição das imagens ao custo de maior planejamento do voo.| \n",
    "| <img src=\"data/fototriangulação_analítica.png\" width=400> | Modelos independentes:<br>• Os pontos correspondentes de coordenadas conhecidas (GCP) poderiam até estar presentes em até seis imagens ao mesmo tempo mas essa informação não é considerada no ajustamentodos dos pares estereoscópicos.  | \n",
    "\n",
    "\n",
    " "
   ]
  },
  {
   "cell_type": "markdown",
   "id": "1fd69c99",
   "metadata": {},
   "source": [
    "<b>Recomendações:</b>\n",
    "\n",
    "- Planejar a escala da foto, altura do voo, superposição longitudinal e lateral, tolerância da atitude, números de faixas, números de fotos por faixa, etc;\n",
    "- Espaçamento planimétrico dos GCP - H. M. Karara (extraídas de T34-304, 1984): $n = 0,047 \\sqrt{\\frac{25000d_{carta}}{d_{foto}}}$ , onde:\n",
    "    - $d_{carta}$ é denominador da escala da carta; e\n",
    "    - $d_{foto}$ é denominador da escala da foto;\n",
    "- Espaçamento planimétrico das bases - Andrade (1998): $B = T_{foto}d_{foto}\\left (\\frac{100-R_{long}}{100} \\right )$, onde:\n",
    "    - O termo <i>base</i> ($B$) é considerado o valor da distância, no sistema do espaço-objeto, entre os centros de perspectiva de duas exposições sucessivas, ao longo da mesma faixa de vôo, ou seja, a distânica longitudinal entre duas fotografias sucessivas;\n",
    "    - $T_{foto}$ é o tamanho da foto no sentido longitudinal;\n",
    "    - $R_{long}$ é a porcentagem do recobrimento longitudinal desejada, recomenda-se 60%;\n",
    "- Espaçamento entre faixas: $D = T_{foto}d_{foto}\\left (\\frac{100-R_{lateral}}{100} \\right )$, onde:\n",
    "    - $R_{lateral}$ é a porcentagem do recobrimento lateral desejada, recomenda-se 30%;\n",
    "- Área útil: $A_{útil} = BD$;\n",
    "- Número de fotos total: $N_{fotos} = A_{total}/A_{útil}$ ;\n",
    "- GCP sinalizados em superfícies de altura constante (lagos, terraços do mesmo prédio), podem agilizar o campo.\n",
    "- Vôo apoiado por GPS: \n",
    "    - Utilizar-se do <u>modo cinemático, podendo ser pós processado,</u> para o conhecimento dos parâmetros de orientação exterior para cada tomada da foto (com precisão posicional centimétrica);\n",
    "    - Caso seja usado o <u>modo RTK (Real Time Kinematic– método de posicionamento relativo cinemático em tempo real),</u> pode-se até mesmo  realizar-se o restante da aerotriangulação em tempo real (on-the-fly). É muito empregado em sistemas automáticos de fotogrametria. Ver [matrice-350-rtk](https://enterprise.dji.com/pt-br/matrice-350-rtk); \n",
    "    - Nestes casos, dispensa-se o conhecimento de coordenadas de quaisquer pontos de campo."
   ]
  },
  {
   "cell_type": "markdown",
   "id": "db0bf2b8",
   "metadata": {},
   "source": [
    "### Exemplo 1"
   ]
  },
  {
   "cell_type": "markdown",
   "id": "cf2159ed",
   "metadata": {},
   "source": [
    "Busca-se realizar um voo fotogramétrico sobre uma área de 450000ha. O recobrimento lateral e longitudinal definidos são 30% e 40%. Pela altura do voo de H metros e pelo Campo de visão da câmera, estima-se que cada foto recubra uma área de 1000x750 m em imagens de 4864x3648 px. Qual o número de fotos total?"
   ]
  },
  {
   "cell_type": "markdown",
   "id": "56fe921a",
   "metadata": {},
   "source": [
    "## 2. Formulação do Bundle Adjustment"
   ]
  },
  {
   "cell_type": "markdown",
   "id": "e735e270",
   "metadata": {},
   "source": [
    "Os principais elementos envolvidos no bundle adjustment são:\n",
    "\n",
    "- Um conjunto de 6 imagens sobrepostas, $n=1,...,6$;\n",
    "- Conjunto de pontos no espaço-objeto $P_j$ de coordenadas ($X_{Pi},Y_{Pi},Z_{Pi}$) a serem ajustados;\n",
    "- Conjunto de pontos no espaço-imagem $p^n_i$ de coordenadas ($u^n_{pi},v^n_{pi}$) correspondentes ao ponto 3D $P_j$ em cada imagem $n$;\n",
    "- Conjunto de matrizes extrínsecas $T_n$ a serem ajustadas;\n",
    "- Caso a distância focal esteja automática, ou seja, variando, um conjunto de matrizes íntrínsecas $K_n$ a serem ajustadas, caso a distância focal esteja fixa, apenas uma matriz íntrínseca $K$ a ser ajustada;\n",
    "- Função de custo a ser minimizada $\\mathcal{L}$:\n",
    "    -  $\\mathcal{L} = \\sum_{n=1}^6||  ||^2$\n"
   ]
  },
  {
   "cell_type": "markdown",
   "id": "0f7c9699",
   "metadata": {},
   "source": [
    "<img src=\"data/bloco.png\">"
   ]
  },
  {
   "cell_type": "markdown",
   "id": "957181d3",
   "metadata": {},
   "source": []
  },
  {
   "cell_type": "markdown",
   "id": "1b266d2b",
   "metadata": {},
   "source": [
    "<b>"
   ]
  }
 ],
 "metadata": {
  "language_info": {
   "name": "python"
  }
 },
 "nbformat": 4,
 "nbformat_minor": 5
}
