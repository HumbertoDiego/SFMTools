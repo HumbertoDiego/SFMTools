{
 "cells": [
  {
   "cell_type": "code",
   "execution_count": 1,
   "id": "ab812c1e",
   "metadata": {},
   "outputs": [
    {
     "data": {
      "text/latex": [
       "$\\displaystyle \\left[\\begin{matrix}χ \\left(u - \\frac{X \\left(- c_{x} \\sin{\\left(φ \\right)} + f_{x} \\cos{\\left(κ \\right)} \\cos{\\left(φ \\right)}\\right) + Y \\left(c_{x} \\sin{\\left(ω \\right)} \\cos{\\left(φ \\right)} + f_{x} \\left(- \\sin{\\left(κ \\right)} \\cos{\\left(ω \\right)} + \\sin{\\left(φ \\right)} \\sin{\\left(ω \\right)} \\cos{\\left(κ \\right)}\\right)\\right) + Z \\left(c_{x} \\cos{\\left(φ \\right)} \\cos{\\left(ω \\right)} + f_{x} \\left(\\sin{\\left(κ \\right)} \\sin{\\left(ω \\right)} + \\sin{\\left(φ \\right)} \\cos{\\left(κ \\right)} \\cos{\\left(ω \\right)}\\right)\\right) + c_{x} t_{z} + f_{x} t_{x}}{- X \\sin{\\left(φ \\right)} + Y \\sin{\\left(ω \\right)} \\cos{\\left(φ \\right)} + Z \\cos{\\left(φ \\right)} \\cos{\\left(ω \\right)} + t_{z}}\\right)\\\\χ \\left(v - \\frac{X \\left(- c_{y} \\sin{\\left(φ \\right)} - f_{y} \\sin{\\left(κ \\right)} \\cos{\\left(φ \\right)}\\right) + Y \\left(c_{y} \\sin{\\left(ω \\right)} \\cos{\\left(φ \\right)} - f_{y} \\left(\\sin{\\left(κ \\right)} \\sin{\\left(φ \\right)} \\sin{\\left(ω \\right)} + \\cos{\\left(κ \\right)} \\cos{\\left(ω \\right)}\\right)\\right) + Z \\left(c_{y} \\cos{\\left(φ \\right)} \\cos{\\left(ω \\right)} - f_{y} \\left(\\sin{\\left(κ \\right)} \\sin{\\left(φ \\right)} \\cos{\\left(ω \\right)} - \\sin{\\left(ω \\right)} \\cos{\\left(κ \\right)}\\right)\\right) + c_{y} t_{z} - f_{y} t_{y}}{- X \\sin{\\left(φ \\right)} + Y \\sin{\\left(ω \\right)} \\cos{\\left(φ \\right)} + Z \\cos{\\left(φ \\right)} \\cos{\\left(ω \\right)} + t_{z}}\\right)\\end{matrix}\\right]$"
      ],
      "text/plain": [
       "Matrix([\n",
       "[χ*(u - (X*(-c_x*sin(φ) + f_x*cos(κ)*cos(φ)) + Y*(c_x*sin(ω)*cos(φ) + f_x*(-sin(κ)*cos(ω) + sin(φ)*sin(ω)*cos(κ))) + Z*(c_x*cos(φ)*cos(ω) + f_x*(sin(κ)*sin(ω) + sin(φ)*cos(κ)*cos(ω))) + c_x*t_z + f_x*t_x)/(-X*sin(φ) + Y*sin(ω)*cos(φ) + Z*cos(φ)*cos(ω) + t_z))],\n",
       "[ χ*(v - (X*(-c_y*sin(φ) - f_y*sin(κ)*cos(φ)) + Y*(c_y*sin(ω)*cos(φ) - f_y*(sin(κ)*sin(φ)*sin(ω) + cos(κ)*cos(ω))) + Z*(c_y*cos(φ)*cos(ω) - f_y*(sin(κ)*sin(φ)*cos(ω) - sin(ω)*cos(κ))) + c_y*t_z - f_y*t_y)/(-X*sin(φ) + Y*sin(ω)*cos(φ) + Z*cos(φ)*cos(ω) + t_z))]])"
      ]
     },
     "execution_count": 1,
     "metadata": {},
     "output_type": "execute_result"
    }
   ],
   "source": [
    "# código auxiliar para o Latex\n",
    "\n",
    "from sympy import symbols, Matrix, sqrt, simplify, latex, cos, sin\n",
    "\n",
    "# Definindo as variáveis simbólicas\n",
    "f_x, f_y, c_x, c_y = symbols('f_x f_y c_x c_y')\n",
    "t_x, t_y, t_z = symbols('t_x t_y t_z')\n",
    "pitch, roll, yaw = symbols('φ ω κ')\n",
    "X, Y, Z = symbols('X Y Z')\n",
    "u, v = symbols('u v')\n",
    "qui = symbols('χ')\n",
    "# R_11, R_12, R_13, R_21, R_22, R_23, R_31, R_32, R_33 = symbols('R_11 R_12 R_13 R_21 R_22 R_23 R_31 R_32 R_33')\n",
    "# P_11, P_12, P_13, P_14, P_21, P_22, P_23, P_24, P_31, P_32, P_33, P_34 = symbols('P_11 P_12 P_13 P_14 P_21 P_22 P_23 P_24 P_31 P_32 P_33 P_34')\n",
    "# P = Matrix([[P_11, P_12, P_13, P_14], [P_21, P_22, P_23, P_24],[ P_31, P_32, P_33, P_34]])\n",
    "\n",
    "\n",
    "# Variáveis compostas\n",
    "R_11 = cos(yaw)*cos(pitch)\n",
    "R_12 = cos(yaw)*sin(pitch)*sin(roll) - sin(yaw)*cos(roll)\n",
    "R_13 = cos(yaw)*sin(pitch)*cos(roll) + sin(yaw)*sin(roll)\n",
    "R_21 = sin(yaw)*cos(pitch)\n",
    "R_22 = sin(yaw)*sin(pitch)*sin(roll) + cos(yaw)*cos(roll)\n",
    "R_23 = sin(yaw)*sin(pitch)*cos(roll) - cos(yaw)*sin(roll)\n",
    "R_31 = -sin(pitch)\n",
    "R_32 = cos(pitch)*sin(roll)\n",
    "R_33 = cos(pitch)*cos(roll)\n",
    "T = Matrix([[R_11, R_21, R_31], [R_12, R_22, R_32], [R_13, R_23, R_33], [t_x, t_y, t_z]]).T\n",
    "K = Matrix([[f_x, 0, c_x],[0, -f_y, c_y], [0, 0, 1]])\n",
    "X_vec= Matrix([X, Y, Z, 1])\n",
    "u_vec = Matrix([u, v])\n",
    "\n",
    "# Vetores calculados\n",
    "P = K * T\n",
    "P_vec = P.reshape(12, 1)\n",
    "reproj = P*X_vec\n",
    "u_pred = Matrix([reproj[0,0]/reproj[2,0], reproj[1,0]/reproj[2,0]])\n",
    "zero = qui*(u_vec - u_pred)\n",
    "\n",
    "zero"
   ]
  },
  {
   "cell_type": "code",
   "execution_count": 2,
   "id": "e359401d",
   "metadata": {},
   "outputs": [
    {
     "data": {
      "text/latex": [
       "$\\displaystyle \\left[\\begin{matrix}- c_{x} \\sin{\\left(φ \\right)} + f_{x} \\cos{\\left(κ \\right)} \\cos{\\left(φ \\right)}\\\\c_{x} \\sin{\\left(ω \\right)} \\cos{\\left(φ \\right)} + f_{x} \\left(- \\sin{\\left(κ \\right)} \\cos{\\left(ω \\right)} + \\sin{\\left(φ \\right)} \\sin{\\left(ω \\right)} \\cos{\\left(κ \\right)}\\right)\\\\c_{x} \\cos{\\left(φ \\right)} \\cos{\\left(ω \\right)} + f_{x} \\left(\\sin{\\left(κ \\right)} \\sin{\\left(ω \\right)} + \\sin{\\left(φ \\right)} \\cos{\\left(κ \\right)} \\cos{\\left(ω \\right)}\\right)\\\\c_{x} t_{z} + f_{x} t_{x}\\\\- c_{y} \\sin{\\left(φ \\right)} - f_{y} \\sin{\\left(κ \\right)} \\cos{\\left(φ \\right)}\\\\c_{y} \\sin{\\left(ω \\right)} \\cos{\\left(φ \\right)} - f_{y} \\left(\\sin{\\left(κ \\right)} \\sin{\\left(φ \\right)} \\sin{\\left(ω \\right)} + \\cos{\\left(κ \\right)} \\cos{\\left(ω \\right)}\\right)\\\\c_{y} \\cos{\\left(φ \\right)} \\cos{\\left(ω \\right)} - f_{y} \\left(\\sin{\\left(κ \\right)} \\sin{\\left(φ \\right)} \\cos{\\left(ω \\right)} - \\sin{\\left(ω \\right)} \\cos{\\left(κ \\right)}\\right)\\\\c_{y} t_{z} - f_{y} t_{y}\\\\- \\sin{\\left(φ \\right)}\\\\\\sin{\\left(ω \\right)} \\cos{\\left(φ \\right)}\\\\\\cos{\\left(φ \\right)} \\cos{\\left(ω \\right)}\\\\t_{z}\\end{matrix}\\right]$"
      ],
      "text/plain": [
       "Matrix([\n",
       "[                                -c_x*sin(φ) + f_x*cos(κ)*cos(φ)],\n",
       "[c_x*sin(ω)*cos(φ) + f_x*(-sin(κ)*cos(ω) + sin(φ)*sin(ω)*cos(κ))],\n",
       "[ c_x*cos(φ)*cos(ω) + f_x*(sin(κ)*sin(ω) + sin(φ)*cos(κ)*cos(ω))],\n",
       "[                                              c_x*t_z + f_x*t_x],\n",
       "[                                -c_y*sin(φ) - f_y*sin(κ)*cos(φ)],\n",
       "[ c_y*sin(ω)*cos(φ) - f_y*(sin(κ)*sin(φ)*sin(ω) + cos(κ)*cos(ω))],\n",
       "[ c_y*cos(φ)*cos(ω) - f_y*(sin(κ)*sin(φ)*cos(ω) - sin(ω)*cos(κ))],\n",
       "[                                              c_y*t_z - f_y*t_y],\n",
       "[                                                        -sin(φ)],\n",
       "[                                                  sin(ω)*cos(φ)],\n",
       "[                                                  cos(φ)*cos(ω)],\n",
       "[                                                            t_z]])"
      ]
     },
     "execution_count": 2,
     "metadata": {},
     "output_type": "execute_result"
    }
   ],
   "source": [
    "P_vec"
   ]
  },
  {
   "cell_type": "code",
   "execution_count": 3,
   "id": "c072782a",
   "metadata": {},
   "outputs": [
    {
     "data": {
      "text/latex": [
       "$\\displaystyle \\left[\\begin{matrix}- c_{x} \\sin{\\left(φ \\right)} + f_{x} \\cos{\\left(κ \\right)} \\cos{\\left(φ \\right)} & c_{x} \\sin{\\left(ω \\right)} \\cos{\\left(φ \\right)} + f_{x} \\left(- \\sin{\\left(κ \\right)} \\cos{\\left(ω \\right)} + \\sin{\\left(φ \\right)} \\sin{\\left(ω \\right)} \\cos{\\left(κ \\right)}\\right) & c_{x} \\cos{\\left(φ \\right)} \\cos{\\left(ω \\right)} + f_{x} \\left(\\sin{\\left(κ \\right)} \\sin{\\left(ω \\right)} + \\sin{\\left(φ \\right)} \\cos{\\left(κ \\right)} \\cos{\\left(ω \\right)}\\right) & c_{x} t_{z} + f_{x} t_{x}\\\\- c_{y} \\sin{\\left(φ \\right)} - f_{y} \\sin{\\left(κ \\right)} \\cos{\\left(φ \\right)} & c_{y} \\sin{\\left(ω \\right)} \\cos{\\left(φ \\right)} - f_{y} \\left(\\sin{\\left(κ \\right)} \\sin{\\left(φ \\right)} \\sin{\\left(ω \\right)} + \\cos{\\left(κ \\right)} \\cos{\\left(ω \\right)}\\right) & c_{y} \\cos{\\left(φ \\right)} \\cos{\\left(ω \\right)} - f_{y} \\left(\\sin{\\left(κ \\right)} \\sin{\\left(φ \\right)} \\cos{\\left(ω \\right)} - \\sin{\\left(ω \\right)} \\cos{\\left(κ \\right)}\\right) & c_{y} t_{z} - f_{y} t_{y}\\\\- \\sin{\\left(φ \\right)} & \\sin{\\left(ω \\right)} \\cos{\\left(φ \\right)} & \\cos{\\left(φ \\right)} \\cos{\\left(ω \\right)} & t_{z}\\end{matrix}\\right]$"
      ],
      "text/plain": [
       "Matrix([\n",
       "[-c_x*sin(φ) + f_x*cos(κ)*cos(φ), c_x*sin(ω)*cos(φ) + f_x*(-sin(κ)*cos(ω) + sin(φ)*sin(ω)*cos(κ)), c_x*cos(φ)*cos(ω) + f_x*(sin(κ)*sin(ω) + sin(φ)*cos(κ)*cos(ω)), c_x*t_z + f_x*t_x],\n",
       "[-c_y*sin(φ) - f_y*sin(κ)*cos(φ),  c_y*sin(ω)*cos(φ) - f_y*(sin(κ)*sin(φ)*sin(ω) + cos(κ)*cos(ω)), c_y*cos(φ)*cos(ω) - f_y*(sin(κ)*sin(φ)*cos(ω) - sin(ω)*cos(κ)), c_y*t_z - f_y*t_y],\n",
       "[                        -sin(φ),                                                   sin(ω)*cos(φ),                                                  cos(φ)*cos(ω),               t_z]])"
      ]
     },
     "execution_count": 3,
     "metadata": {},
     "output_type": "execute_result"
    }
   ],
   "source": [
    "P"
   ]
  },
  {
   "cell_type": "code",
   "execution_count": null,
   "id": "0e26ec87",
   "metadata": {},
   "outputs": [],
   "source": []
  }
 ],
 "metadata": {
  "kernelspec": {
   "display_name": "myenv",
   "language": "python",
   "name": "python3"
  },
  "language_info": {
   "codemirror_mode": {
    "name": "ipython",
    "version": 3
   },
   "file_extension": ".py",
   "mimetype": "text/x-python",
   "name": "python",
   "nbconvert_exporter": "python",
   "pygments_lexer": "ipython3",
   "version": "3.12.9"
  }
 },
 "nbformat": 4,
 "nbformat_minor": 5
}
