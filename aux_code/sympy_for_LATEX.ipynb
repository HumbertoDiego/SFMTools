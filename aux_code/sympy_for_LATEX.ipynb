{
 "cells": [
  {
   "cell_type": "code",
   "execution_count": 18,
   "id": "ab812c1e",
   "metadata": {},
   "outputs": [
    {
     "data": {
      "text/latex": [
       "$\\displaystyle \\left[\\begin{matrix}χ \\left(u - \\frac{X \\left(- c_{x} \\sin{\\left(φ \\right)} + f_{x} \\cos{\\left(κ \\right)} \\cos{\\left(φ \\right)}\\right) + Y \\left(c_{x} \\sin{\\left(ω \\right)} \\cos{\\left(φ \\right)} + f_{x} \\left(- \\sin{\\left(κ \\right)} \\cos{\\left(ω \\right)} + \\sin{\\left(φ \\right)} \\sin{\\left(ω \\right)} \\cos{\\left(κ \\right)}\\right)\\right) + Z \\left(c_{x} \\cos{\\left(φ \\right)} \\cos{\\left(ω \\right)} + f_{x} \\left(\\sin{\\left(κ \\right)} \\sin{\\left(ω \\right)} + \\sin{\\left(φ \\right)} \\cos{\\left(κ \\right)} \\cos{\\left(ω \\right)}\\right)\\right) + c_{x} t_{z} + f_{x} t_{x}}{- X \\sin{\\left(φ \\right)} + Y \\sin{\\left(ω \\right)} \\cos{\\left(φ \\right)} + Z \\cos{\\left(φ \\right)} \\cos{\\left(ω \\right)} + t_{z}}\\right)\\\\χ \\left(v - \\frac{X \\left(- c_{y} \\sin{\\left(φ \\right)} + f_{y} \\sin{\\left(κ \\right)} \\cos{\\left(φ \\right)}\\right) + Y \\left(c_{y} \\sin{\\left(ω \\right)} \\cos{\\left(φ \\right)} + f_{y} \\left(\\sin{\\left(κ \\right)} \\sin{\\left(φ \\right)} \\sin{\\left(ω \\right)} + \\cos{\\left(κ \\right)} \\cos{\\left(ω \\right)}\\right)\\right) + Z \\left(c_{y} \\cos{\\left(φ \\right)} \\cos{\\left(ω \\right)} + f_{y} \\left(\\sin{\\left(κ \\right)} \\sin{\\left(φ \\right)} \\cos{\\left(ω \\right)} - \\sin{\\left(ω \\right)} \\cos{\\left(κ \\right)}\\right)\\right) + c_{y} t_{z} + f_{y} t_{y}}{- X \\sin{\\left(φ \\right)} + Y \\sin{\\left(ω \\right)} \\cos{\\left(φ \\right)} + Z \\cos{\\left(φ \\right)} \\cos{\\left(ω \\right)} + t_{z}}\\right)\\end{matrix}\\right]$"
      ],
      "text/plain": [
       "Matrix([\n",
       "[χ*(u - (X*(-c_x*sin(φ) + f_x*cos(κ)*cos(φ)) + Y*(c_x*sin(ω)*cos(φ) + f_x*(-sin(κ)*cos(ω) + sin(φ)*sin(ω)*cos(κ))) + Z*(c_x*cos(φ)*cos(ω) + f_x*(sin(κ)*sin(ω) + sin(φ)*cos(κ)*cos(ω))) + c_x*t_z + f_x*t_x)/(-X*sin(φ) + Y*sin(ω)*cos(φ) + Z*cos(φ)*cos(ω) + t_z))],\n",
       "[ χ*(v - (X*(-c_y*sin(φ) + f_y*sin(κ)*cos(φ)) + Y*(c_y*sin(ω)*cos(φ) + f_y*(sin(κ)*sin(φ)*sin(ω) + cos(κ)*cos(ω))) + Z*(c_y*cos(φ)*cos(ω) + f_y*(sin(κ)*sin(φ)*cos(ω) - sin(ω)*cos(κ))) + c_y*t_z + f_y*t_y)/(-X*sin(φ) + Y*sin(ω)*cos(φ) + Z*cos(φ)*cos(ω) + t_z))]])"
      ]
     },
     "execution_count": 18,
     "metadata": {},
     "output_type": "execute_result"
    }
   ],
   "source": [
    "# código auxiliar para o Latex\n",
    "import numpy as np\n",
    "from sympy import symbols, Matrix, sqrt, simplify, latex, cos, sin\n",
    "\n",
    "# Definindo as variáveis simbólicas\n",
    "f_x, f_y, c_x, c_y = symbols('f_x f_y c_x c_y')\n",
    "t_x, t_y, t_z = symbols('t_x t_y t_z')\n",
    "pitch, roll, yaw = symbols('φ ω κ')\n",
    "X, Y, Z = symbols('X Y Z')\n",
    "u, v = symbols('u v')\n",
    "qui = symbols('χ')\n",
    "# R_11, R_12, R_13, R_21, R_22, R_23, R_31, R_32, R_33 = symbols('R_11 R_12 R_13 R_21 R_22 R_23 R_31 R_32 R_33')\n",
    "# P_11, P_12, P_13, P_14, P_21, P_22, P_23, P_24, P_31, P_32, P_33, P_34 = symbols('P_11 P_12 P_13 P_14 P_21 P_22 P_23 P_24 P_31 P_32 P_33 P_34')\n",
    "# P = Matrix([[P_11, P_12, P_13, P_14], [P_21, P_22, P_23, P_24],[ P_31, P_32, P_33, P_34]])\n",
    "\n",
    "\n",
    "# Variáveis compostas\n",
    "R_11 = cos(yaw)*cos(pitch)\n",
    "R_12 = cos(yaw)*sin(pitch)*sin(roll) - sin(yaw)*cos(roll)\n",
    "R_13 = cos(yaw)*sin(pitch)*cos(roll) + sin(yaw)*sin(roll)\n",
    "R_21 = sin(yaw)*cos(pitch)\n",
    "R_22 = sin(yaw)*sin(pitch)*sin(roll) + cos(yaw)*cos(roll)\n",
    "R_23 = sin(yaw)*sin(pitch)*cos(roll) - cos(yaw)*sin(roll)\n",
    "R_31 = -sin(pitch)\n",
    "R_32 = cos(pitch)*sin(roll)\n",
    "R_33 = cos(pitch)*cos(roll)\n",
    "T = Matrix([[R_11, R_21, R_31], [R_12, R_22, R_32], [R_13, R_23, R_33], [t_x, t_y, t_z]]).T\n",
    "K = Matrix([[f_x, 0, c_x],[0, f_y, c_y], [0, 0, 1]])\n",
    "X_vec= Matrix([X, Y, Z, 1])\n",
    "u_vec = Matrix([u, v])\n",
    "\n",
    "# Vetores calculados\n",
    "P = K * T\n",
    "P_vec = P.reshape(12, 1)\n",
    "reproj = P*X_vec\n",
    "u_pred = Matrix([reproj[0,0]/reproj[2,0], reproj[1,0]/reproj[2,0]])\n",
    "zero = qui*(u_vec - u_pred)\n",
    "\n",
    "zero"
   ]
  },
  {
   "cell_type": "code",
   "execution_count": 19,
   "id": "e359401d",
   "metadata": {},
   "outputs": [
    {
     "data": {
      "text/latex": [
       "$\\displaystyle \\left[\\begin{matrix}- c_{x} \\sin{\\left(φ \\right)} + f_{x} \\cos{\\left(κ \\right)} \\cos{\\left(φ \\right)}\\\\c_{x} \\sin{\\left(ω \\right)} \\cos{\\left(φ \\right)} + f_{x} \\left(- \\sin{\\left(κ \\right)} \\cos{\\left(ω \\right)} + \\sin{\\left(φ \\right)} \\sin{\\left(ω \\right)} \\cos{\\left(κ \\right)}\\right)\\\\c_{x} \\cos{\\left(φ \\right)} \\cos{\\left(ω \\right)} + f_{x} \\left(\\sin{\\left(κ \\right)} \\sin{\\left(ω \\right)} + \\sin{\\left(φ \\right)} \\cos{\\left(κ \\right)} \\cos{\\left(ω \\right)}\\right)\\\\c_{x} t_{z} + f_{x} t_{x}\\\\- c_{y} \\sin{\\left(φ \\right)} + f_{y} \\sin{\\left(κ \\right)} \\cos{\\left(φ \\right)}\\\\c_{y} \\sin{\\left(ω \\right)} \\cos{\\left(φ \\right)} + f_{y} \\left(\\sin{\\left(κ \\right)} \\sin{\\left(φ \\right)} \\sin{\\left(ω \\right)} + \\cos{\\left(κ \\right)} \\cos{\\left(ω \\right)}\\right)\\\\c_{y} \\cos{\\left(φ \\right)} \\cos{\\left(ω \\right)} + f_{y} \\left(\\sin{\\left(κ \\right)} \\sin{\\left(φ \\right)} \\cos{\\left(ω \\right)} - \\sin{\\left(ω \\right)} \\cos{\\left(κ \\right)}\\right)\\\\c_{y} t_{z} + f_{y} t_{y}\\\\- \\sin{\\left(φ \\right)}\\\\\\sin{\\left(ω \\right)} \\cos{\\left(φ \\right)}\\\\\\cos{\\left(φ \\right)} \\cos{\\left(ω \\right)}\\\\t_{z}\\end{matrix}\\right]$"
      ],
      "text/plain": [
       "Matrix([\n",
       "[                                -c_x*sin(φ) + f_x*cos(κ)*cos(φ)],\n",
       "[c_x*sin(ω)*cos(φ) + f_x*(-sin(κ)*cos(ω) + sin(φ)*sin(ω)*cos(κ))],\n",
       "[ c_x*cos(φ)*cos(ω) + f_x*(sin(κ)*sin(ω) + sin(φ)*cos(κ)*cos(ω))],\n",
       "[                                              c_x*t_z + f_x*t_x],\n",
       "[                                -c_y*sin(φ) + f_y*sin(κ)*cos(φ)],\n",
       "[ c_y*sin(ω)*cos(φ) + f_y*(sin(κ)*sin(φ)*sin(ω) + cos(κ)*cos(ω))],\n",
       "[ c_y*cos(φ)*cos(ω) + f_y*(sin(κ)*sin(φ)*cos(ω) - sin(ω)*cos(κ))],\n",
       "[                                              c_y*t_z + f_y*t_y],\n",
       "[                                                        -sin(φ)],\n",
       "[                                                  sin(ω)*cos(φ)],\n",
       "[                                                  cos(φ)*cos(ω)],\n",
       "[                                                            t_z]])"
      ]
     },
     "execution_count": 19,
     "metadata": {},
     "output_type": "execute_result"
    }
   ],
   "source": [
    "P_vec"
   ]
  },
  {
   "cell_type": "code",
   "execution_count": 20,
   "id": "c072782a",
   "metadata": {},
   "outputs": [
    {
     "data": {
      "text/latex": [
       "$\\displaystyle \\left[\\begin{matrix}- c_{x} \\sin{\\left(φ \\right)} + f_{x} \\cos{\\left(κ \\right)} \\cos{\\left(φ \\right)} & c_{x} \\sin{\\left(ω \\right)} \\cos{\\left(φ \\right)} + f_{x} \\left(- \\sin{\\left(κ \\right)} \\cos{\\left(ω \\right)} + \\sin{\\left(φ \\right)} \\sin{\\left(ω \\right)} \\cos{\\left(κ \\right)}\\right) & c_{x} \\cos{\\left(φ \\right)} \\cos{\\left(ω \\right)} + f_{x} \\left(\\sin{\\left(κ \\right)} \\sin{\\left(ω \\right)} + \\sin{\\left(φ \\right)} \\cos{\\left(κ \\right)} \\cos{\\left(ω \\right)}\\right) & c_{x} t_{z} + f_{x} t_{x}\\\\- c_{y} \\sin{\\left(φ \\right)} + f_{y} \\sin{\\left(κ \\right)} \\cos{\\left(φ \\right)} & c_{y} \\sin{\\left(ω \\right)} \\cos{\\left(φ \\right)} + f_{y} \\left(\\sin{\\left(κ \\right)} \\sin{\\left(φ \\right)} \\sin{\\left(ω \\right)} + \\cos{\\left(κ \\right)} \\cos{\\left(ω \\right)}\\right) & c_{y} \\cos{\\left(φ \\right)} \\cos{\\left(ω \\right)} + f_{y} \\left(\\sin{\\left(κ \\right)} \\sin{\\left(φ \\right)} \\cos{\\left(ω \\right)} - \\sin{\\left(ω \\right)} \\cos{\\left(κ \\right)}\\right) & c_{y} t_{z} + f_{y} t_{y}\\\\- \\sin{\\left(φ \\right)} & \\sin{\\left(ω \\right)} \\cos{\\left(φ \\right)} & \\cos{\\left(φ \\right)} \\cos{\\left(ω \\right)} & t_{z}\\end{matrix}\\right]$"
      ],
      "text/plain": [
       "Matrix([\n",
       "[-c_x*sin(φ) + f_x*cos(κ)*cos(φ), c_x*sin(ω)*cos(φ) + f_x*(-sin(κ)*cos(ω) + sin(φ)*sin(ω)*cos(κ)), c_x*cos(φ)*cos(ω) + f_x*(sin(κ)*sin(ω) + sin(φ)*cos(κ)*cos(ω)), c_x*t_z + f_x*t_x],\n",
       "[-c_y*sin(φ) + f_y*sin(κ)*cos(φ),  c_y*sin(ω)*cos(φ) + f_y*(sin(κ)*sin(φ)*sin(ω) + cos(κ)*cos(ω)), c_y*cos(φ)*cos(ω) + f_y*(sin(κ)*sin(φ)*cos(ω) - sin(ω)*cos(κ)), c_y*t_z + f_y*t_y],\n",
       "[                        -sin(φ),                                                   sin(ω)*cos(φ),                                                  cos(φ)*cos(ω),               t_z]])"
      ]
     },
     "execution_count": 20,
     "metadata": {},
     "output_type": "execute_result"
    }
   ],
   "source": [
    "P"
   ]
  },
  {
   "cell_type": "code",
   "execution_count": 55,
   "id": "0e26ec87",
   "metadata": {},
   "outputs": [
    {
     "data": {
      "text/plain": [
       "[[665.107510110000, 6.26406837763871e-14, -511.500000000000, 832.246180411320],\n",
       " [0, -665.107510110000, -383.500000000000, 1191.90374643868],\n",
       " [0, 1.22464679914735e-16, -1.00000000000000, 2.26162003000000]]"
      ]
     },
     "execution_count": 55,
     "metadata": {},
     "output_type": "execute_result"
    }
   ],
   "source": [
    "V = {pitch:0, roll:np.pi, yaw:0, f_x:665.10751011, f_y:665.10751011, c_x:511.5, c_y:383.5, t_x:-0.488, t_y:0.488, t_z:2.26162003}\n",
    "P.subs(V).evalf().tolist()"
   ]
  },
  {
   "cell_type": "code",
   "execution_count": 53,
   "id": "04e67252",
   "metadata": {},
   "outputs": [
    {
     "data": {
      "text/plain": [
       "1480.5587999999998"
      ]
     },
     "execution_count": 53,
     "metadata": {},
     "output_type": "execute_result"
    }
   ],
   "source": [
    "511.5*2.26+665.1*0.488"
   ]
  },
  {
   "cell_type": "code",
   "execution_count": null,
   "id": "14d18952",
   "metadata": {},
   "outputs": [
    {
     "data": {
      "text/latex": [
       "$\\displaystyle \\left[\\begin{matrix}\\cos{\\left(κ \\right)} \\cos{\\left(φ \\right)} & - \\sin{\\left(κ \\right)} \\cos{\\left(ω \\right)} + \\sin{\\left(φ \\right)} \\sin{\\left(ω \\right)} \\cos{\\left(κ \\right)} & \\sin{\\left(κ \\right)} \\sin{\\left(ω \\right)} + \\sin{\\left(φ \\right)} \\cos{\\left(κ \\right)} \\cos{\\left(ω \\right)}\\\\\\sin{\\left(κ \\right)} \\cos{\\left(φ \\right)} & \\sin{\\left(κ \\right)} \\sin{\\left(φ \\right)} \\sin{\\left(ω \\right)} + \\cos{\\left(κ \\right)} \\cos{\\left(ω \\right)} & \\sin{\\left(κ \\right)} \\sin{\\left(φ \\right)} \\cos{\\left(ω \\right)} - \\sin{\\left(ω \\right)} \\cos{\\left(κ \\right)}\\\\- \\sin{\\left(φ \\right)} & \\sin{\\left(ω \\right)} \\cos{\\left(φ \\right)} & \\cos{\\left(φ \\right)} \\cos{\\left(ω \\right)}\\end{matrix}\\right]$"
      ],
      "text/plain": [
       "Matrix([\n",
       "[cos(κ)*cos(φ), -sin(κ)*cos(ω) + sin(φ)*sin(ω)*cos(κ), sin(κ)*sin(ω) + sin(φ)*cos(κ)*cos(ω)],\n",
       "[sin(κ)*cos(φ),  sin(κ)*sin(φ)*sin(ω) + cos(κ)*cos(ω), sin(κ)*sin(φ)*cos(ω) - sin(ω)*cos(κ)],\n",
       "[      -sin(φ),                         sin(ω)*cos(φ),                        cos(φ)*cos(ω)]])"
      ]
     },
     "execution_count": 47,
     "metadata": {},
     "output_type": "execute_result"
    }
   ],
   "source": [
    "import sympy as sp\n",
    "\n",
    "# Rotation around X-axis (Roll)\n",
    "Rx = sp.Matrix([\n",
    "    [1, 0, 0],\n",
    "    [0, sp.cos(roll), -sp.sin(roll)],\n",
    "    [0, sp.sin(roll), sp.cos(roll)]\n",
    "])\n",
    "\n",
    "# Rotation around Y-axis (Pitch)\n",
    "Ry = sp.Matrix([\n",
    "    [sp.cos(pitch), 0, sp.sin(pitch)],\n",
    "    [0, 1, 0],\n",
    "    [-sp.sin(pitch), 0, sp.cos(pitch)]\n",
    "])\n",
    "\n",
    "# Rotation around Z-axis (Yaw)\n",
    "Rz = sp.Matrix([\n",
    "    [sp.cos(yaw), -sp.sin(yaw), 0],\n",
    "    [sp.sin(yaw), sp.cos(yaw), 0],\n",
    "    [0, 0, 1]\n",
    "])\n",
    "\n",
    "# Combined Rotation Matrix: Yaw-Pitch-Roll (ZYX convention)\n",
    "Rypr = Rz * Ry * Rx\n",
    "\n",
    "# Display the result\n",
    "Rypr"
   ]
  },
  {
   "cell_type": "code",
   "execution_count": 10,
   "id": "ab8fd27b",
   "metadata": {},
   "outputs": [
    {
     "data": {
      "text/latex": [
       "$\\displaystyle \\left[\\begin{matrix}χ \\left(u - \\frac{X \\left(c_{x} \\left(2 q_{w} q_{y} + 2 q_{x} q_{z}\\right) + f_{x} \\left(- 2 q_{y}^{2} - 2 q_{z}^{2} + 1\\right)\\right) + Y \\left(c_{x} \\left(- 2 q_{w} q_{x} + 2 q_{y} q_{z}\\right) + f_{x} \\left(2 q_{w} q_{z} + 2 q_{x} q_{y}\\right)\\right) + Z \\left(c_{x} \\left(- 2 q_{x}^{2} - 2 q_{y}^{2} + 1\\right) + f_{x} \\left(- 2 q_{w} q_{y} + 2 q_{x} q_{z}\\right)\\right) + c_{x} t_{z} + f_{x} t_{x}}{X \\left(2 q_{w} q_{y} + 2 q_{x} q_{z}\\right) + Y \\left(- 2 q_{w} q_{x} + 2 q_{y} q_{z}\\right) + Z \\left(- 2 q_{x}^{2} - 2 q_{y}^{2} + 1\\right) + t_{z}}\\right)\\\\χ \\left(v - \\frac{X \\left(c_{y} \\left(2 q_{w} q_{y} + 2 q_{x} q_{z}\\right) + f_{y} \\left(- 2 q_{w} q_{z} + 2 q_{x} q_{y}\\right)\\right) + Y \\left(c_{y} \\left(- 2 q_{w} q_{x} + 2 q_{y} q_{z}\\right) + f_{y} \\left(- 2 q_{x}^{2} - 2 q_{z}^{2} + 1\\right)\\right) + Z \\left(c_{y} \\left(- 2 q_{x}^{2} - 2 q_{y}^{2} + 1\\right) + f_{y} \\left(2 q_{w} q_{x} + 2 q_{y} q_{z}\\right)\\right) + c_{y} t_{z} + f_{y} t_{y}}{X \\left(2 q_{w} q_{y} + 2 q_{x} q_{z}\\right) + Y \\left(- 2 q_{w} q_{x} + 2 q_{y} q_{z}\\right) + Z \\left(- 2 q_{x}^{2} - 2 q_{y}^{2} + 1\\right) + t_{z}}\\right)\\end{matrix}\\right]$"
      ],
      "text/plain": [
       "Matrix([\n",
       "[χ*(u - (X*(c_x*(2*q_w*q_y + 2*q_x*q_z) + f_x*(-2*q_y**2 - 2*q_z**2 + 1)) + Y*(c_x*(-2*q_w*q_x + 2*q_y*q_z) + f_x*(2*q_w*q_z + 2*q_x*q_y)) + Z*(c_x*(-2*q_x**2 - 2*q_y**2 + 1) + f_x*(-2*q_w*q_y + 2*q_x*q_z)) + c_x*t_z + f_x*t_x)/(X*(2*q_w*q_y + 2*q_x*q_z) + Y*(-2*q_w*q_x + 2*q_y*q_z) + Z*(-2*q_x**2 - 2*q_y**2 + 1) + t_z))],\n",
       "[χ*(v - (X*(c_y*(2*q_w*q_y + 2*q_x*q_z) + f_y*(-2*q_w*q_z + 2*q_x*q_y)) + Y*(c_y*(-2*q_w*q_x + 2*q_y*q_z) + f_y*(-2*q_x**2 - 2*q_z**2 + 1)) + Z*(c_y*(-2*q_x**2 - 2*q_y**2 + 1) + f_y*(2*q_w*q_x + 2*q_y*q_z)) + c_y*t_z + f_y*t_y)/(X*(2*q_w*q_y + 2*q_x*q_z) + Y*(-2*q_w*q_x + 2*q_y*q_z) + Z*(-2*q_x**2 - 2*q_y**2 + 1) + t_z))]])"
      ]
     },
     "execution_count": 10,
     "metadata": {},
     "output_type": "execute_result"
    }
   ],
   "source": [
    "# código auxiliar para o Latex\n",
    "import numpy as np\n",
    "from sympy import symbols, Matrix, sqrt, simplify, latex, cos, sin\n",
    "\n",
    "# Definindo as variáveis simbólicas\n",
    "f_x, f_y, c_x, c_y = symbols('f_x f_y c_x c_y')\n",
    "t_x, t_y, t_z = symbols('t_x t_y t_z')\n",
    "pitch, roll, yaw = symbols('φ ω κ')\n",
    "X, Y, Z = symbols('X Y Z')\n",
    "u, v = symbols('u v')\n",
    "qui = symbols('χ')\n",
    "\n",
    "# Definindo os quaternions como símbolos\n",
    "qw, qx, qy, qz = symbols('q_w q_x q_y q_z')\n",
    "\n",
    "# Matriz de rotação a partir dos quaternions\n",
    "R = Matrix([\n",
    "    [1 - 2*(qy**2 + qz**2),   2*(qx*qy + qw*qz),   2*(qx*qz - qw*qy)],\n",
    "    [2*(qx*qy - qw*qz),       1 - 2*(qx**2 + qz**2), 2*(qy*qz + qw*qx)],\n",
    "    [2*(qx*qz + qw*qy),       2*(qy*qz - qw*qx),   1 - 2*(qx**2 + qy**2)]\n",
    "])\n",
    "\n",
    "T = Matrix([[R[0,0], R[1,0], R[2,0]], [R[0,1], R[1,1], R[2,1]], [R[0,2], R[1,2], R[2,2]], [t_x, t_y, t_z]]).T\n",
    "K = Matrix([[f_x, 0, c_x],[0, f_y, c_y], [0, 0, 1]])\n",
    "X_vec= Matrix([X, Y, Z, 1])\n",
    "u_vec = Matrix([u, v])\n",
    "\n",
    "# Vetores calculados\n",
    "P = K * T\n",
    "P_vec = P.reshape(12, 1)\n",
    "reproj = P*X_vec\n",
    "u_pred = Matrix([reproj[0,0]/reproj[2,0], reproj[1,0]/reproj[2,0]])\n",
    "zero = qui*(u_vec - u_pred)\n",
    "\n",
    "zero"
   ]
  },
  {
   "cell_type": "code",
   "execution_count": 11,
   "id": "37d9637b",
   "metadata": {},
   "outputs": [
    {
     "data": {
      "text/latex": [
       "$\\displaystyle \\left[\\begin{matrix}- 2 q_{y}^{2} - 2 q_{z}^{2} + 1 & 2 q_{w} q_{z} + 2 q_{x} q_{y} & - 2 q_{w} q_{y} + 2 q_{x} q_{z}\\\\- 2 q_{w} q_{z} + 2 q_{x} q_{y} & - 2 q_{x}^{2} - 2 q_{z}^{2} + 1 & 2 q_{w} q_{x} + 2 q_{y} q_{z}\\\\2 q_{w} q_{y} + 2 q_{x} q_{z} & - 2 q_{w} q_{x} + 2 q_{y} q_{z} & - 2 q_{x}^{2} - 2 q_{y}^{2} + 1\\end{matrix}\\right]$"
      ],
      "text/plain": [
       "Matrix([\n",
       "[-2*q_y**2 - 2*q_z**2 + 1,    2*q_w*q_z + 2*q_x*q_y,   -2*q_w*q_y + 2*q_x*q_z],\n",
       "[  -2*q_w*q_z + 2*q_x*q_y, -2*q_x**2 - 2*q_z**2 + 1,    2*q_w*q_x + 2*q_y*q_z],\n",
       "[   2*q_w*q_y + 2*q_x*q_z,   -2*q_w*q_x + 2*q_y*q_z, -2*q_x**2 - 2*q_y**2 + 1]])"
      ]
     },
     "execution_count": 11,
     "metadata": {},
     "output_type": "execute_result"
    }
   ],
   "source": [
    "R"
   ]
  },
  {
   "cell_type": "code",
   "execution_count": 12,
   "id": "a98679e5",
   "metadata": {},
   "outputs": [
    {
     "data": {
      "text/latex": [
       "$\\displaystyle \\left[\\begin{matrix}c_{x} \\left(2 q_{w} q_{y} + 2 q_{x} q_{z}\\right) + f_{x} \\left(- 2 q_{y}^{2} - 2 q_{z}^{2} + 1\\right) & c_{x} \\left(- 2 q_{w} q_{x} + 2 q_{y} q_{z}\\right) + f_{x} \\left(2 q_{w} q_{z} + 2 q_{x} q_{y}\\right) & c_{x} \\left(- 2 q_{x}^{2} - 2 q_{y}^{2} + 1\\right) + f_{x} \\left(- 2 q_{w} q_{y} + 2 q_{x} q_{z}\\right) & c_{x} t_{z} + f_{x} t_{x}\\\\c_{y} \\left(2 q_{w} q_{y} + 2 q_{x} q_{z}\\right) + f_{y} \\left(- 2 q_{w} q_{z} + 2 q_{x} q_{y}\\right) & c_{y} \\left(- 2 q_{w} q_{x} + 2 q_{y} q_{z}\\right) + f_{y} \\left(- 2 q_{x}^{2} - 2 q_{z}^{2} + 1\\right) & c_{y} \\left(- 2 q_{x}^{2} - 2 q_{y}^{2} + 1\\right) + f_{y} \\left(2 q_{w} q_{x} + 2 q_{y} q_{z}\\right) & c_{y} t_{z} + f_{y} t_{y}\\\\2 q_{w} q_{y} + 2 q_{x} q_{z} & - 2 q_{w} q_{x} + 2 q_{y} q_{z} & - 2 q_{x}^{2} - 2 q_{y}^{2} + 1 & t_{z}\\end{matrix}\\right]$"
      ],
      "text/plain": [
       "Matrix([\n",
       "[c_x*(2*q_w*q_y + 2*q_x*q_z) + f_x*(-2*q_y**2 - 2*q_z**2 + 1),    c_x*(-2*q_w*q_x + 2*q_y*q_z) + f_x*(2*q_w*q_z + 2*q_x*q_y), c_x*(-2*q_x**2 - 2*q_y**2 + 1) + f_x*(-2*q_w*q_y + 2*q_x*q_z), c_x*t_z + f_x*t_x],\n",
       "[  c_y*(2*q_w*q_y + 2*q_x*q_z) + f_y*(-2*q_w*q_z + 2*q_x*q_y), c_y*(-2*q_w*q_x + 2*q_y*q_z) + f_y*(-2*q_x**2 - 2*q_z**2 + 1),  c_y*(-2*q_x**2 - 2*q_y**2 + 1) + f_y*(2*q_w*q_x + 2*q_y*q_z), c_y*t_z + f_y*t_y],\n",
       "[                                       2*q_w*q_y + 2*q_x*q_z,                                        -2*q_w*q_x + 2*q_y*q_z,                                      -2*q_x**2 - 2*q_y**2 + 1,               t_z]])"
      ]
     },
     "execution_count": 12,
     "metadata": {},
     "output_type": "execute_result"
    }
   ],
   "source": [
    "P"
   ]
  },
  {
   "cell_type": "code",
   "execution_count": 13,
   "id": "5d8d9468",
   "metadata": {},
   "outputs": [
    {
     "data": {
      "text/latex": [
       "$\\displaystyle \\left[\\begin{matrix}c_{x} \\left(2 q_{w} q_{y} + 2 q_{x} q_{z}\\right) + f_{x} \\left(- 2 q_{y}^{2} - 2 q_{z}^{2} + 1\\right)\\\\c_{x} \\left(- 2 q_{w} q_{x} + 2 q_{y} q_{z}\\right) + f_{x} \\left(2 q_{w} q_{z} + 2 q_{x} q_{y}\\right)\\\\c_{x} \\left(- 2 q_{x}^{2} - 2 q_{y}^{2} + 1\\right) + f_{x} \\left(- 2 q_{w} q_{y} + 2 q_{x} q_{z}\\right)\\\\c_{x} t_{z} + f_{x} t_{x}\\\\c_{y} \\left(2 q_{w} q_{y} + 2 q_{x} q_{z}\\right) + f_{y} \\left(- 2 q_{w} q_{z} + 2 q_{x} q_{y}\\right)\\\\c_{y} \\left(- 2 q_{w} q_{x} + 2 q_{y} q_{z}\\right) + f_{y} \\left(- 2 q_{x}^{2} - 2 q_{z}^{2} + 1\\right)\\\\c_{y} \\left(- 2 q_{x}^{2} - 2 q_{y}^{2} + 1\\right) + f_{y} \\left(2 q_{w} q_{x} + 2 q_{y} q_{z}\\right)\\\\c_{y} t_{z} + f_{y} t_{y}\\\\2 q_{w} q_{y} + 2 q_{x} q_{z}\\\\- 2 q_{w} q_{x} + 2 q_{y} q_{z}\\\\- 2 q_{x}^{2} - 2 q_{y}^{2} + 1\\\\t_{z}\\end{matrix}\\right]$"
      ],
      "text/plain": [
       "Matrix([\n",
       "[ c_x*(2*q_w*q_y + 2*q_x*q_z) + f_x*(-2*q_y**2 - 2*q_z**2 + 1)],\n",
       "[   c_x*(-2*q_w*q_x + 2*q_y*q_z) + f_x*(2*q_w*q_z + 2*q_x*q_y)],\n",
       "[c_x*(-2*q_x**2 - 2*q_y**2 + 1) + f_x*(-2*q_w*q_y + 2*q_x*q_z)],\n",
       "[                                            c_x*t_z + f_x*t_x],\n",
       "[   c_y*(2*q_w*q_y + 2*q_x*q_z) + f_y*(-2*q_w*q_z + 2*q_x*q_y)],\n",
       "[c_y*(-2*q_w*q_x + 2*q_y*q_z) + f_y*(-2*q_x**2 - 2*q_z**2 + 1)],\n",
       "[ c_y*(-2*q_x**2 - 2*q_y**2 + 1) + f_y*(2*q_w*q_x + 2*q_y*q_z)],\n",
       "[                                            c_y*t_z + f_y*t_y],\n",
       "[                                        2*q_w*q_y + 2*q_x*q_z],\n",
       "[                                       -2*q_w*q_x + 2*q_y*q_z],\n",
       "[                                     -2*q_x**2 - 2*q_y**2 + 1],\n",
       "[                                                          t_z]])"
      ]
     },
     "execution_count": 13,
     "metadata": {},
     "output_type": "execute_result"
    }
   ],
   "source": [
    "P_vec"
   ]
  },
  {
   "cell_type": "code",
   "execution_count": 14,
   "id": "90789298",
   "metadata": {},
   "outputs": [
    {
     "name": "stdout",
     "output_type": "stream",
     "text": [
      "Matrix([[c_x*(2*q_w*q_y + 2*q_x*q_z) + f_x*(-2*q_y**2 - 2*q_z**2 + 1)], [c_x*(-2*q_w*q_x + 2*q_y*q_z) + f_x*(2*q_w*q_z + 2*q_x*q_y)], [c_x*(-2*q_x**2 - 2*q_y**2 + 1) + f_x*(-2*q_w*q_y + 2*q_x*q_z)], [c_x*t_z + f_x*t_x], [c_y*(2*q_w*q_y + 2*q_x*q_z) + f_y*(-2*q_w*q_z + 2*q_x*q_y)], [c_y*(-2*q_w*q_x + 2*q_y*q_z) + f_y*(-2*q_x**2 - 2*q_z**2 + 1)], [c_y*(-2*q_x**2 - 2*q_y**2 + 1) + f_y*(2*q_w*q_x + 2*q_y*q_z)], [c_y*t_z + f_y*t_y], [2*q_w*q_y + 2*q_x*q_z], [-2*q_w*q_x + 2*q_y*q_z], [-2*q_x**2 - 2*q_y**2 + 1], [t_z]])\n"
     ]
    }
   ],
   "source": [
    "print(P_vec)"
   ]
  },
  {
   "cell_type": "code",
   "execution_count": null,
   "id": "764f7403",
   "metadata": {},
   "outputs": [],
   "source": []
  }
 ],
 "metadata": {
  "kernelspec": {
   "display_name": "myenv",
   "language": "python",
   "name": "python3"
  },
  "language_info": {
   "codemirror_mode": {
    "name": "ipython",
    "version": 3
   },
   "file_extension": ".py",
   "mimetype": "text/x-python",
   "name": "python",
   "nbconvert_exporter": "python",
   "pygments_lexer": "ipython3",
   "version": "3.12.9"
  }
 },
 "nbformat": 4,
 "nbformat_minor": 5
}
