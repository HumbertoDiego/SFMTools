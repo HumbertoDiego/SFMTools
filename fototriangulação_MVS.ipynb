{
 "cells": [
  {
   "cell_type": "markdown",
   "id": "c36b143a",
   "metadata": {},
   "source": [
    "## Sumário\n",
    "\n",
    "1. Fototriangulação para várias imagens - método dos modelos independetes\n",
    "\n",
    "2. Técnica para remoção de observações com erros grosseiros (outliers) do ajustamento"
   ]
  },
  {
   "cell_type": "markdown",
   "id": "ea21f0dc",
   "metadata": {},
   "source": [
    "## 1. Fototriangulação para várias imagens - método dos modelos independetes\n"
   ]
  },
  {
   "cell_type": "markdown",
   "id": "33434d46",
   "metadata": {},
   "source": [
    "Também chamdo de <i>Multiple View stereo</i>, objetiva-se obter as coordenada 3D de pontos através de imagens calibradas de diferentes pontos de vista da mesma cena.\n",
    "\n",
    "Visualize uma armação com várias câmeras calibradas, ou seja, matriz de parâmetros íntrisecos $K$ conhecida, além das posições relativas das câmeras, uma em relação à outra, conforme fig. abaixo:"
   ]
  },
  {
   "cell_type": "markdown",
   "id": "dfa65297",
   "metadata": {},
   "source": [
    "Esse método é chamado modelo independente porque não impõe relações de orientação entre as câmeras a priori. Cada câmera é tratada de forma independente, e os pontos 3D são calculados diretamente pela interseção dos raios vindos das projeções."
   ]
  },
  {
   "cell_type": "markdown",
   "id": "25d447b8",
   "metadata": {},
   "source": [
    "<img src=\"data/MultipleViewStereo.png\" width=600>"
   ]
  },
  {
   "cell_type": "markdown",
   "id": "ffa09e63",
   "metadata": {},
   "source": [
    "Para solucionar este tipo de problema, devemos em primeiro lugar, obter as matrizes de projeção de pontos do espaço-objeto para o espaço-imagem, ou seja, as matrizes $P_n$ para $n=1,...,N$, tal que:"
   ]
  },
  {
   "cell_type": "markdown",
   "id": "16ced50e",
   "metadata": {},
   "source": [
    "$$Z_c\n",
    "\\begin{bmatrix}\n",
    "u \\\\\n",
    "v \\\\\n",
    "1\n",
    "\\end{bmatrix}=\n",
    "\\underbrace{\n",
    "        \\underbrace{\n",
    "            \\begin{bmatrix}\n",
    "                f_x & 0 & c_x & 0 \\\\\n",
    "                0 & f_y & c_y & 0 \\\\\n",
    "                0 & 0 & 1 & 0\n",
    "            \\end{bmatrix}\n",
    "        }_{Intrinsic \\ parameters \\ [K_{3\\times 3}|0]}\n",
    "        \\underbrace{\n",
    "            \\begin{bmatrix}\n",
    "                R_{3 \\times 3} & t_{3\\times 1} \\\\\n",
    "                0_{1 \\times 3} & 1 \n",
    "            \\end{bmatrix}\n",
    "        }_{Extrinsic \\ parameters \\ T_{4\\times 4}}\n",
    "}_{P_{3\\times 4}}\n",
    "\\begin{bmatrix}\n",
    "X \\\\\n",
    "Y \\\\\n",
    "Z\\\\\n",
    "1\n",
    "\\end{bmatrix}\n",
    "$$"
   ]
  },
  {
   "cell_type": "markdown",
   "id": "9234495c",
   "metadata": {},
   "source": [
    "### (i) Relembrando a matriz de parâmetros extrínsecos T:"
   ]
  },
  {
   "cell_type": "markdown",
   "id": "de348168",
   "metadata": {},
   "source": [
    "Com a notação de mudança de base fica fácil observar como interligar as tranformações extrísecas da camera em cada posição, a equação nos indica que a tranformação $T$ leva pontos do sistema de referência do espaço objeto $\\mathbf{X_w}$ para o sistema de referênica interno de câmera câmera $\\mathbf{X_{O_n}}$\n",
    "\n",
    "$$\n",
    "\\begin{bmatrix}\n",
    "X_{O_n} \\\\\n",
    "Y_{O_n} \\\\\n",
    "Z_{O_n} \\\\\n",
    "1\n",
    "\\end{bmatrix} = \n",
    "_{O_n}{\\left[T\\right]}_{w}\n",
    "\\begin{bmatrix}\n",
    "X_w \\\\\n",
    "Y_w \\\\\n",
    "Z_w \\\\\n",
    "1\n",
    "\\end{bmatrix} \n",
    "$$"
   ]
  },
  {
   "cell_type": "markdown",
   "id": "cd6705fe",
   "metadata": {},
   "source": [
    "\n",
    "- $T_1$ pode ser reescrito com a notação de mudança de base da seguinte forma: \n",
    "    - $_{O_1}{T}_{w}$ é a posição da câmera na visada 1, antes de qualquer movimentação, também chamada de câmera 1.\n",
    "    - Se $T_1= I_{4 \\times 4}$, acabamos não atribuindo a escala ao nosso problema, mas mesmo assim seremos capazes de reconstruir ponto a ponto 3D e obtermos uma forma geral para a cena dentro de um <u>sistema de coordenadas local</u>.\n",
    "- ${}_{O_2}{T}_{w}$ é a posição da câmera na visada 2, depois de um deslocamento, também chamado de câmera 2.\n",
    "    - $ {}_{O_2}T_{O_1}= {}_{O_1}T_{O_2}^{-1}$\n",
    "    - $T_2 = {}_{O_2}{T}_{w} = {}_{O_2}T_{O_1} \\  {}_{O_1}{T}_{w}$\n",
    "- $_{O_3}{T}_{w}$ é a posição da câmera na visada 3, depois de um deslocamento, também chamado de câmera 3.\n",
    "    - $ {}_{O_3}T_{O_2}= {}_{O_2}T_{O_3}^{-1}$\n",
    "    - $T_3 = {}_{O_3}{T}_{w} = {}_{O_3}T_{O_2} \\ {}_{O_2}T_{O_1} \\  {}_{O_1}{T}_{w}$\n",
    "- E assim por diante, a fórmula geral fica:\n",
    "    - $T_N = {}_{O_N}{T}_{w} = {}_{O_{N-1}}T_{O_N}^{-1} ...  \\ {}_{O_1}T_{O_2}^{-1} \\  {}_{O_1}{T}_{w} = \\prod_{i=1}^N \\left ( {}_{O_{i}}T_{O_{i+1}}^{-1} \\right ) \\cdot {}_{O_1}{T}_{w}$ \n",
    "- Onde: $T^{-1} = \\begin{bmatrix} R^T & -R\\mathbf{t} \\\\ 0 & 1\\end{bmatrix}$\n",
    "\n"
   ]
  },
  {
   "cell_type": "markdown",
   "id": "43146e07",
   "metadata": {},
   "source": [
    "#### Decomposição de $T$ em $R$, $t$, $C$:\n",
    "\n",
    "Sabe-se que $T = [ R | t ]$ é a transformação do espaço-objeto para o sistema câmera.\n",
    "\n",
    "Assim: \n",
    "\n",
    "- Rotação do espaço-objeto em relação ao sistema da câmera: $R = T[:, :3]$;\n",
    "- Posição da origem do espaço-objeto no sistema da câmera: $\\mathbf{t}= T[:, 3]$\n",
    "- Posição do centro perspectivo da câmera no espaço-objeto: $\\mathbf{C} = -R^T \\mathbf{t}$"
   ]
  },
  {
   "cell_type": "markdown",
   "id": "25c6af35",
   "metadata": {},
   "source": [
    "### (ii) Relembrando a solução geral da fototriangulação de um par esterereoscópico:"
   ]
  },
  {
   "cell_type": "markdown",
   "id": "063861e5",
   "metadata": {},
   "source": [
    "Tendo duas câmeras e conhecidos suas matrizes de transformação do sistema de referência do espaço-objeto para o sistema de referência do espaço-imagem em pixels $P_1$ e $P_2$, bem como, as coordenadas coluna e linha dos pixels correspondentes (fotogramétricos) nas duas imagens $\\overrightarrow{p_1} \\ (u_1 \\ v_1)$ e $\\overrightarrow{p_2} \\ (u_2 \\ v_2)$, temos:\n",
    "\n",
    "$\n",
    "\\underbrace{\\begin{bmatrix} u_{1}P_1^3 - P_1^1 \\\\ v_{1}P_1^3 - P_1^2 \\\\ u_{2}P_2^3 - P_2^1 \\\\ v_{2}P_2^3 - P_2^2  \\end{bmatrix}}_A \\underbrace{\\begin{bmatrix}  X \\tilde{w} \\\\ Y\\tilde{w} \\\\ Z\\tilde{w} \\\\ \\tilde{w} \\end{bmatrix}}_{\\overrightarrow{X}}= 0\n",
    "$\n",
    "\n",
    "Onde $P_n^l$ indica a linha $l$ da matriz $P_n$.\n",
    "\n",
    "$\n",
    " A\\overrightarrow{X}=0 \\xrightarrow{ajustamento}\n",
    "$\n",
    "\n",
    "$A\\overrightarrow{X_a}=V$ sujeito a $||\\overrightarrow{X_a}||=1 \\rightarrow $\n",
    "\n",
    "$\\overrightarrow{X_a}$ estimado é o autovetor correspondente ao menor autovalor de $A^TA$."
   ]
  },
  {
   "cell_type": "markdown",
   "id": "46a03ca4",
   "metadata": {},
   "source": [
    "Tendo $N$ câmeras podemos construir a equação para o ajsutamento da mesma maneira, assim temos:\n",
    "\n",
    "$\n",
    "\\begin{bmatrix} \n",
    "    u_{1}P_1^3 - P_1^1 \\\\ v_{1}P_1^3 - P_1^2 \\\\ \n",
    "    u_{2}P_2^3 - P_2^1 \\\\ v_{2}P_2^3 - P_2^2 \\\\\n",
    "    \\vdots \\\\\n",
    "    u_{N}P_N^3 - P_N^1 \\\\ v_{N}P_N^3 - P_N^2  \n",
    "\\end{bmatrix}\n",
    "\\begin{bmatrix}  X \\tilde{w} \\\\ Y\\tilde{w} \\\\ Z\\tilde{w} \\\\ \\tilde{w} \\end{bmatrix} = 0   \n",
    "$\n",
    "\n",
    "Um problema prático que pode vir à mente é: Como inserir nesta equação se o ponto 3D é visível ou não na imagem $n$? \n",
    "\n",
    "- Em um primeiro momento pode-se simplesmente remover o par de equações da respectiva imagem onde o ponto 3D não é visível. \n",
    "- Mas em uma reconstrução de vários pontos 3D, essa abordagem implicaria em ter que reconstruir a matriz $A$ diversas vezes. \n",
    "- Uma solução mais robusta seria constuir um conjunto \"relê\" $\\mathcal{X_{nk}} = 1 $, para os casos onde o ponto 3D $k$ é visto na imagem $n$ e caso contrário, igual a $0$.\n",
    "\n",
    "Assim, a equação fica:\n",
    "\n",
    "$\n",
    "\\begin{bmatrix} \n",
    "    \\mathcal{X}_{11}(u_{1}P_1^3 - P_1^1) \\\\ \\mathcal{X}_{11}(v_{1}P_1^3 - P_1^2) \\\\ \n",
    "    \\mathcal{X}_{21}(u_{2}P_2^3 - P_2^1) \\\\ \\mathcal{X}_{21}(v_{2}P_2^3 - P_2^2) \\\\\n",
    "    \\vdots \\\\\n",
    "    \\mathcal{X}_{N1}(u_{N}P_N^3 - P_N^1) \\\\ \\mathcal{X}_{N1}(v_{N}P_N^3 - P_N^2)  \n",
    "\\end{bmatrix}\n",
    "\\begin{bmatrix}  X \\tilde{w} \\\\ Y\\tilde{w} \\\\ Z\\tilde{w} \\\\ \\tilde{w} \\end{bmatrix} = 0  \\rightarrow \n",
    "\\underbrace{\n",
    "    \\left [\n",
    "\\begin{matrix} \n",
    "    \\mathcal{X}_{11} \\\\\n",
    "    \\mathcal{X}_{11} \\\\\n",
    "    \\mathcal{X}_{21} \\\\\n",
    "    \\mathcal{X}_{21} \\\\\n",
    "    \\vdots  \\\\\n",
    "    \\mathcal{X}_{N1} \\\\\n",
    "    \\mathcal{X}_{N1}\n",
    "\\end{matrix} \\ \\ \n",
    "\\begin{matrix} \n",
    "    \\mathcal{X}_{11} \\\\\n",
    "    \\mathcal{X}_{11} \\\\\n",
    "    \\mathcal{X}_{21} \\\\\n",
    "    \\mathcal{X}_{21} \\\\\n",
    "    \\vdots  \\\\\n",
    "    \\mathcal{X}_{N1}\\\\\n",
    "    \\mathcal{X}_{N1}\n",
    "\\end{matrix} \\ \\ \n",
    "\\begin{matrix} \n",
    "    \\mathcal{X}_{11} \\\\\n",
    "    \\mathcal{X}_{11} \\\\\n",
    "    \\mathcal{X}_{21} \\\\\n",
    "    \\mathcal{X}_{21} \\\\\n",
    "    \\vdots  \\\\\n",
    "    \\mathcal{X}_{N1} \\\\\n",
    "    \\mathcal{X}_{N1}\n",
    "\\end{matrix} \\ \\ \n",
    "\\begin{matrix} \n",
    "    \\mathcal{X}_{11} \\\\\n",
    "    \\mathcal{X}_{11} \\\\\n",
    "    \\mathcal{X}_{21} \\\\\n",
    "    \\mathcal{X}_{21} \\\\\n",
    "    \\vdots  \\\\\n",
    "    \\mathcal{X}_{N1} \\\\\n",
    "    \\mathcal{X}_{N1}\n",
    "\\end{matrix}\n",
    "\\right ] }_{2N \\times 4} \\odot\n",
    "\\underbrace{\\begin{bmatrix} \n",
    "    u_{1}P_1^3 - P_1^1 \\\\ v_{1}P_1^3 - P_1^2 \\\\ \n",
    "    u_{2}P_2^3 - P_2^1 \\\\ v_{2}P_2^3 - P_2^2 \\\\\n",
    "    \\vdots \\\\\n",
    "    u_{2}P_N^3 - P_N^1 \\\\ v_{2}P_N^3 - P_N^2 \n",
    "\\end{bmatrix}}_{2N \\times 4}\n",
    "\\begin{bmatrix}  X \\tilde{w} \\\\ Y\\tilde{w} \\\\ Z\\tilde{w} \\\\ \\tilde{w} \\end{bmatrix} = 0 \n",
    "$\n",
    "\n",
    "Esta equação resolve o ajustamento para um único ponto 3D.\n"
   ]
  },
  {
   "cell_type": "markdown",
   "id": "d95d3549",
   "metadata": {},
   "source": [
    "### Exemplo 1"
   ]
  },
  {
   "cell_type": "markdown",
   "id": "7071a99c",
   "metadata": {},
   "source": [
    "Considere os 8 pontos 3D abaixo formando um cubo de aresta 1:\n"
   ]
  },
  {
   "cell_type": "code",
   "execution_count": 1,
   "id": "a801d21f",
   "metadata": {},
   "outputs": [
    {
     "name": "stdout",
     "output_type": "stream",
     "text": [
      "Jupyter environment detected. Enabling Open3D WebVisualizer.\n",
      "[Open3D INFO] WebRTC GUI backend enabled.\n",
      "[Open3D INFO] WebRTCWindowSystem: HTTP handshake server disabled.\n"
     ]
    }
   ],
   "source": [
    "import open3d as o3d\n",
    "import numpy as np\n",
    "\n",
    "# Considere os 8 pontos 3D abaixo formando um cubo de aresta 1:\n",
    "points = [\n",
    "    [0, 1, 1], # P0\n",
    "    [1, 1, 1], # P1\n",
    "    [1, 0, 1], # P2\n",
    "    [0, 0, 1], # P3\n",
    "    [1, 1, 0], # P4\n",
    "    [1, 0, 0], # P5\n",
    "    [0, 1, 0], # P6\n",
    "    [0, 0, 0], # P7 origem\n",
    "]\n",
    "\n",
    "pcd = o3d.geometry.PointCloud()\n",
    "point_cloud = np.asarray(np.array(points))\n",
    "pcd.points = o3d.utility.Vector3dVector(point_cloud)\n",
    "\n",
    "##### Gerar o volume do cubo para ofuscar os pontos atrás do cubo \n",
    "mesh_box = o3d.geometry.TriangleMesh.create_box(width=1.0,\n",
    "                                                height=1.0,\n",
    "                                                depth=1.0)\n",
    "\n",
    "mesh_box.compute_vertex_normals()\n",
    "mesh_box.compute_triangle_normals()\n",
    "\n",
    "# Get triangle data\n",
    "triangles = np.asarray(mesh_box.triangles)\n",
    "vertices = np.asarray(mesh_box.vertices)\n",
    "normals = np.asarray(mesh_box.triangle_normals)\n",
    "\n",
    "# Expand: one triangle = three new unique vertices\n",
    "new_vertices = []\n",
    "new_triangles = []\n",
    "new_colors = []\n",
    "\n",
    "for i, tri in enumerate(triangles):\n",
    "    for j in range(3):\n",
    "        new_vertices.append(vertices[tri[j]])\n",
    "        new_colors.append((normals[i] + 1.0) / 2.0)  # normalize [-1,1] to [0,1]\n",
    "    new_triangles.append([3*i, 3*i + 1, 3*i + 2])\n",
    "\n",
    "#### Create new mesh with duplicated vertices\n",
    "colored_mesh = o3d.geometry.TriangleMesh()\n",
    "colored_mesh.vertices = o3d.utility.Vector3dVector(new_vertices)\n",
    "colored_mesh.triangles = o3d.utility.Vector3iVector(new_triangles)\n",
    "colored_mesh.vertex_colors = o3d.utility.Vector3dVector(new_colors)\n",
    "\n",
    "#### Eixos X(red arrow), Y(green arrow), Z(blue arrow)\n",
    "mesh_frame = o3d.geometry.TriangleMesh.create_coordinate_frame( size=0.4, origin=[0, 0, 0])\n",
    "\n",
    "o3d.visualization.draw_geometries([pcd, colored_mesh, mesh_frame] ,width=1024, height=768, zoom=1 )"
   ]
  },
  {
   "cell_type": "markdown",
   "id": "06799bc9",
   "metadata": {},
   "source": [
    "Foram capturadas as 6 imagens a seguir ao redor desse cubo"
   ]
  },
  {
   "cell_type": "code",
   "execution_count": 2,
   "id": "46af78c8",
   "metadata": {},
   "outputs": [
    {
     "data": {
      "image/png": "[encoded data removed]",
      "text/plain": [
       "<Figure size 1000x500 with 6 Axes>"
      ]
     },
     "metadata": {},
     "output_type": "display_data"
    }
   ],
   "source": [
    "import matplotlib.pyplot as plt\n",
    "import matplotlib.image as mpimg\n",
    "\n",
    "# Load the images\n",
    "img = []\n",
    "for i in range(1,7):\n",
    "    img.append(mpimg.imread(f'aux_data/CuboCaptrue{i}.png'))\n",
    "\n",
    "# Create a figure and a set of subplots\n",
    "fig, axes = plt.subplots(2, 3, figsize=(10, 5))\n",
    "\n",
    "# Display images\n",
    "c = 0\n",
    "for i in range(0,2): # linha\n",
    "    for k in range(0,3): # #coluna\n",
    "        axes[i][k].imshow(img[c])\n",
    "        axes[i][k].set_title(f'Câmera {c}')\n",
    "        c+=1\n",
    "\n",
    "# Adjust layout\n",
    "plt.tight_layout()\n",
    "plt.show()"
   ]
  },
  {
   "cell_type": "markdown",
   "id": "6a2495bc",
   "metadata": {},
   "source": [
    "As coordenadas dos pixels correspondentes $\\mathbf{u_{nk}}$ para $n=0,...,5$ e $k=0,...,7$"
   ]
  },
  {
   "cell_type": "code",
   "execution_count": 3,
   "id": "14b71813",
   "metadata": {},
   "outputs": [
    {
     "name": "stdout",
     "output_type": "stream",
     "text": [
      "[[1 1 1 1 0 0 0 0]\n",
      " [1 1 1 1 1 1 0 0]\n",
      " [1 1 1 1 1 1 0 0]\n",
      " [0 1 1 0 1 1 1 1]\n",
      " [0 1 1 1 1 1 1 1]\n",
      " [1 0 0 1 1 1 1 1]]\n",
      "[[0 0 0 0]\n",
      " [0 0 0 0]\n",
      " [0 0 0 0]\n",
      " [0 0 0 0]\n",
      " [0 0 0 0]\n",
      " [0 0 0 0]\n",
      " [1 1 1 1]\n",
      " [1 1 1 1]\n",
      " [1 1 1 1]\n",
      " [1 1 1 1]\n",
      " [1 1 1 1]\n",
      " [1 1 1 1]]\n"
     ]
    }
   ],
   "source": [
    "u_nk = np.zeros((6,8,2))\n",
    "qui_nk = np.zeros((6,8), dtype=int)\n",
    "\n",
    "# Para a câmera 0: \n",
    "P_visados = [0, 1, 2, 3]\n",
    "qui_nk[0, P_visados] = 1\n",
    "u_nk[0,0] = [255,144]\n",
    "u_nk[0,1] = [781,114]\n",
    "u_nk[0,2] = [781,640]\n",
    "u_nk[0,3] = [255,640]\n",
    "\n",
    "# Para a câmera 1:\n",
    "P_visados = [0, 1, 2, 3, 4, 5]\n",
    "qui_nk[1, P_visados] = 1\n",
    "u_nk[1,0] = [215,176]\n",
    "u_nk[1,1] = [620,86]\n",
    "u_nk[1,2] = [625,703]\n",
    "u_nk[1,3] = [235,595]\n",
    "u_nk[1,4] = [749,196]\n",
    "u_nk[1,5] = [748,540]\n",
    "\n",
    "# Para a câmera 2: \n",
    "P_visados = [0, 1, 2, 3, 4, 5]\n",
    "qui_nk[2, P_visados] = 1\n",
    "u_nk[2,0] = [294,240]\n",
    "u_nk[2,1] = [375,208]\n",
    "u_nk[2,2] = [434,660]\n",
    "u_nk[2,3] = [337,522]\n",
    "u_nk[2,4] = [745,187]\n",
    "u_nk[2,5] = [755,541]\n",
    "\n",
    "# Para a câmera 3: \n",
    "P_visados = [1, 2, 4, 5, 6, 7]\n",
    "qui_nk[3, P_visados] = 1\n",
    "u_nk[3,1] = [256,246]\n",
    "u_nk[3,2] = [287,581]\n",
    "u_nk[3,4] = [526,106]\n",
    "u_nk[3,5] = [598,565]\n",
    "u_nk[3,6] = [685,215]\n",
    "u_nk[3,7] = [743,508]\n",
    "\n",
    "# Para a câmera 4: \n",
    "P_visados = [1, 2, 4, 5, 6, 7, 3]\n",
    "qui_nk[4, P_visados] = 1\n",
    "u_nk[4,1] = [338,287]\n",
    "u_nk[4,2] = [272,541]\n",
    "u_nk[4,4] = [448,86]\n",
    "u_nk[4,5] = [388,407]\n",
    "u_nk[4,6] = [724,233]\n",
    "u_nk[4,7] = [767,525]\n",
    "u_nk[4,3] = [550,600]\n",
    "\n",
    "# Para a câmera 5:\n",
    "P_visados = [4, 5, 6, 7, 0, 3]\n",
    "qui_nk[5, P_visados] = 1\n",
    "u_nk[5,4] = [333,154]\n",
    "u_nk[5,5] = [265,460]\n",
    "u_nk[5,6] = [571,215]\n",
    "u_nk[5,7] = [440,649]\n",
    "u_nk[5,0] = [783,290]\n",
    "u_nk[5,3] = [673,578]\n",
    "\n",
    "\n",
    "qui_nk_expanded = np.repeat(qui_nk, 4, axis=1)\n",
    "qui_nk_expanded = np.repeat(qui_nk_expanded, 2, axis=0)\n",
    "\n",
    "print(qui_nk)\n",
    "k = 7\n",
    "print(qui_nk_expanded[:,4*(k):4*(k+1)]) # numpy é lin, col..."
   ]
  },
  {
   "cell_type": "markdown",
   "id": "624aa93c",
   "metadata": {},
   "source": [
    "As respectivas matrizes $T_n$, para $n=0,...,5$ e $K$ são:"
   ]
  },
  {
   "cell_type": "code",
   "execution_count": 4,
   "id": "5fe8d4a7",
   "metadata": {},
   "outputs": [
    {
     "name": "stdout",
     "output_type": "stream",
     "text": [
      "T0:\n",
      " [[ 1.          0.          0.         -0.488     ]\n",
      " [-0.         -1.         -0.          0.488     ]\n",
      " [-0.         -0.         -1.          2.26162003]\n",
      " [ 0.          0.          0.          1.        ]]\n",
      "T1:\n",
      " [[ 0.86082046 -0.01883655 -0.50856004 -0.16271085]\n",
      " [ 0.02006227 -0.99728187  0.07089696  0.44228545]\n",
      " [-0.50851316 -0.07123242 -0.85810274  2.47529001]\n",
      " [ 0.          0.          0.          1.        ]]\n",
      "T2:\n",
      " [[ 0.45223409 -0.09387435 -0.88694528  0.25794975]\n",
      " [ 0.12825264 -0.97726591  0.16882712  0.33193084]\n",
      " [-0.88262993 -0.19010245 -0.42991333  2.82616274]\n",
      " [ 0.          0.          0.          1.        ]]\n",
      "T3:\n",
      " [[-0.56821747 -0.14256521 -0.81043449  0.74235398]\n",
      " [-0.03496948 -0.97980427  0.19687744  0.3991334 ]\n",
      " [-0.82213505  0.14020967  0.55175647  2.15639406]\n",
      " [ 0.          0.          0.          1.        ]]\n",
      "T4:\n",
      " [[-0.86847249  0.06410411 -0.49157522  0.63242048]\n",
      " [-0.30783174 -0.84699854  0.43339716  0.35205936]\n",
      " [-0.38858095  0.52771596  0.75532821  1.65637358]\n",
      " [ 0.          0.          0.          1.        ]]\n",
      "T5:\n",
      " [[-0.65021736  0.28164373  0.70561618 -0.16447676]\n",
      " [-0.35131405 -0.93495088  0.04944976  0.6035658 ]\n",
      " [ 0.67364369 -0.21573979  0.7068667   1.52446358]\n",
      " [ 0.          0.          0.          1.        ]]\n",
      "K:\n",
      " [[665.10751011   0.         511.5       ]\n",
      " [  0.         665.10751011 383.5       ]\n",
      " [  0.           0.           1.        ]]\n"
     ]
    }
   ],
   "source": [
    "import json\n",
    "import numpy as np\n",
    "\n",
    "# Load the jsons\n",
    "cameras = []\n",
    "for i in range(1,7):\n",
    "    cameras.append(json.load(open(f\"aux_data/CuboCamera{i}.json\")))\n",
    "\n",
    "# Load the Tn\n",
    "T = []\n",
    "for i in range(0,6):\n",
    "    T.append(np.array(cameras[i]['extrinsic'], dtype=float).reshape(4,4).T)\n",
    "# Load K\n",
    "K = []\n",
    "for i in range(0,6):\n",
    "    K.append(np.array(cameras[i]['intrinsic']['intrinsic_matrix'], dtype=float).reshape(3,3).T)\n",
    "\n",
    "# show Ts\n",
    "for i in range(0,6):\n",
    "    print(f\"T{i}:\\n\", T[i])\n",
    "\n",
    "# show Ks or K\n",
    "def all_matrices_are_close(matrix_list, rtol=1e-5, atol=1e-8):\n",
    "    reference = matrix_list[0]\n",
    "    return all(np.allclose(reference, m, rtol=rtol, atol=atol) for m in matrix_list[1:])\n",
    "\n",
    "if all_matrices_are_close(K):\n",
    "    K = K[0]\n",
    "    print(\"K:\\n\", K)\n",
    "else:\n",
    "    for i in range(0,6):\n",
    "        print(f\"K{i}:\\n\", K[i])"
   ]
  },
  {
   "cell_type": "markdown",
   "id": "281784e4",
   "metadata": {},
   "source": [
    "As matrizes de projeção $P_n$, para $n=0,...,5$ e $K$ são:"
   ]
  },
  {
   "cell_type": "code",
   "execution_count": 5,
   "id": "5017be9d",
   "metadata": {},
   "outputs": [
    {
     "name": "stdout",
     "output_type": "stream",
     "text": [
      "P0:\n",
      " [[ 6.65107510e+02  0.00000000e+00 -5.11500000e+02  8.32246179e+02]\n",
      " [ 0.00000000e+00 -6.65107510e+02 -3.83500000e+02  1.19190375e+03]\n",
      " [ 0.00000000e+00  0.00000000e+00 -1.00000000e+00  2.26162003e+00]]\n",
      "P1:\n",
      " [[ 3.12433675e+02 -4.89637125e+01 -7.77166651e+02  1.15789063e+03]\n",
      " [-1.81671231e+02 -6.90617294e+02 -2.81928301e+02  1.24344109e+03]\n",
      " [-5.08513160e-01 -7.12324206e-02 -8.58102738e-01  2.47529001e+00]]\n",
      "P2:\n",
      " [[-1.50680919e+02 -1.59673940e+02 -8.09814635e+02  1.61714655e+03]\n",
      " [-2.53186783e+02 -7.22891189e+02 -5.25835753e+01  1.30460311e+03]\n",
      " [-8.82629927e-01 -1.90102453e-01 -4.29913327e-01  2.82616274e+00]]\n",
      "P3:\n",
      " [[-7.98447786e+02 -2.31039441e+01 -2.56802631e+02  1.59674077e+03]\n",
      " [-3.38547254e+02 -5.97904769e+02  3.42543273e+02  1.09244374e+03]\n",
      " [-8.22135051e-01  1.40209673e-01  5.51756474e-01  2.15639406e+00]]\n",
      "P4:\n",
      " [[-7.76386732e+02  3.12562844e+02  5.94000060e+01  1.26786269e+03]\n",
      " [-3.53761998e+02 -3.60966017e+02  5.77924073e+02  8.69376594e+02]\n",
      " [-3.88580955e-01  5.27715964e-01  7.55328209e-01  1.65637358e+00]]\n",
      "P5:\n",
      " [[-8.78957023e+01  7.69724572e+01  8.30872936e+02  6.70368390e+02]\n",
      " [ 2.46807386e+01 -7.04579063e+02  3.03972788e+02  9.86067933e+02]\n",
      " [ 6.73643689e-01 -2.15739786e-01  7.06866695e-01  1.52446358e+00]]\n"
     ]
    }
   ],
   "source": [
    "# Build Projection matrix P\n",
    "P = []\n",
    "for i in range(0,6):\n",
    "    P.append(K @ T[i][:3,:])\n",
    "# show Ps\n",
    "for i in range(0,6):\n",
    "    print(f\"P{i}:\\n\", P[i])"
   ]
  },
  {
   "cell_type": "markdown",
   "id": "a268ae38",
   "metadata": {},
   "source": [
    "Ajustamento de um ponto por vez"
   ]
  },
  {
   "cell_type": "code",
   "execution_count": 6,
   "id": "c431fec6",
   "metadata": {},
   "outputs": [
    {
     "name": "stdout",
     "output_type": "stream",
     "text": [
      "P0: [-0.0046   0.98765  0.99083] --> Erro: 0.0160552608200552\n",
      "P1: [0.99977 1.00016 1.00031] --> Erro: 0.00041785164831549776\n",
      "P2: [9.9997e-01 2.1000e-04 9.9985e-01] --> Erro: 0.0002598076211353191\n",
      "P3: [6.00000e-04 7.50000e-04 1.00051e+00] --> Erro: 0.0010874741376235163\n",
      "P4: [ 9.98620e-01  1.00067e+00 -4.00000e-05] --> Erro: 0.0015345683432157929\n",
      "P5: [ 1.00045e+00 -2.80000e-04 -2.00000e-04] --> Erro: 0.0005664803615307906\n",
      "P6: [-6.20000e-04  1.00042e+00 -2.00000e-05] --> Erro: 0.0007491328320131705\n",
      "P7: [-0.00326 -0.00278 -0.00376] --> Erro: 0.005700315780726537\n",
      "Erro total: 0.017173430059251406\n"
     ]
    }
   ],
   "source": [
    "results = []\n",
    "esperado = np.array(points)\n",
    "for k in range(0,8):\n",
    "    # Ajustamento do ponto Pk em todas as câmeras\n",
    "    Ak = []\n",
    "    for n in range(0,6):\n",
    "        Pn_1 = P[n][0]\n",
    "        Pn_2 = P[n][1]\n",
    "        Pn_3 = P[n][2]\n",
    "        u, v = u_nk[n,k]\n",
    "        if len(Ak) == 0:\n",
    "            Ak = np.array([u * Pn_3 - Pn_1,\n",
    "                            v * Pn_3 - Pn_2,], dtype=float)\n",
    "        else: \n",
    "            aux = np.array([u * Pn_3 - Pn_1,\n",
    "                            v * Pn_3 - Pn_2], dtype=float)\n",
    "            Ak = np.vstack((Ak, aux))\n",
    "\n",
    "    # print(\"A.shape\", Ak.shape, f\" / Esperado (2Nx4) = {2*6 }x{4*1}\")\n",
    "\n",
    "    # Adicionando o relê Qui \n",
    "    q = qui_nk_expanded[:,4*(k):4*(k+1)]\n",
    "    Ak = np.multiply(q, Ak)\n",
    "\n",
    "    # # Compute eigenvalues and eigenvectors\n",
    "    eigenvalues, eigenvectors = np.linalg.eig(Ak.T @ Ak)\n",
    "\n",
    "    # # # Find the index of the minimum eigenvalue\n",
    "    min_index = np.argmin(eigenvalues)\n",
    "\n",
    "    # # # Get the minimum eigenvalue and corresponding eigenvector\n",
    "    min_eigenvalue = eigenvalues[min_index]\n",
    "    min_eigenvector = eigenvectors[:, min_index]\n",
    "\n",
    "    # # Remove the imaginary part if exists\n",
    "    min_eigenvector = np.real(min_eigenvector)\n",
    "\n",
    "    P_calc_homo = min_eigenvector/min_eigenvector[-1] # Normalizando o vetor\n",
    "    P_calc_homo = np.round(P_calc_homo, 5)\n",
    "    P_calc = P_calc_homo[0:3]\n",
    "    P_esperado = esperado[k]\n",
    "    print(f\"P{k}:\", P_calc, \"--> Erro:\", np.linalg.norm(P_esperado-P_calc))\n",
    "    results.append(P_calc)\n",
    "\n",
    "erro = np.linalg.norm(esperado-results)\n",
    "print(\"Erro total:\", erro)"
   ]
  },
  {
   "cell_type": "markdown",
   "id": "0d63bdd4",
   "metadata": {},
   "source": [
    "### Exemplo 2 - \"Como não fazer\""
   ]
  },
  {
   "cell_type": "markdown",
   "id": "ec2a22ca",
   "metadata": {},
   "source": [
    "Utilizando os mesmo dados do exemplo 1, como inserir diversos pontos 3D para serem reconstruídos em um único ajustamento? Bastaria matricializar cada problema separado e juntá-los em uma única matriz, mas lidando com sitema de coordenads homogêneas precisa-se ter cuidado."
   ]
  },
  {
   "cell_type": "markdown",
   "id": "492edbcf",
   "metadata": {},
   "source": [
    "### (iii) Relembrando sistema de coordenadas homogêneas"
   ]
  },
  {
   "cell_type": "markdown",
   "id": "5dd46504",
   "metadata": {},
   "source": [
    "A característica fundamental das coordenadas homogêneas é que elas são definidas a menos de um fator de escala não nulo. Isso significa que um ponto no espaço projetivo pode ser representado por um conjunto infinito de vetores homogêneos proporcionais entre si. \n",
    "\n",
    "Por exemplo,$ \\begin{bmatrix}x\\\\ y\\\\ z\\\\ w\\end{bmatrix}, \\begin{bmatrix}2x\\\\ 2y\\\\ 2z\\\\ 2w\\end{bmatrix} e \\begin{bmatrix}\\lambda x\\\\ \\lambda y\\\\\\lambda z\\\\\\lambda w\\end{bmatrix} $ (onde $\\lambda \\neq 0$) representam o mesmo ponto no espaço projetivo."
   ]
  },
  {
   "cell_type": "markdown",
   "id": "138cd024",
   "metadata": {},
   "source": [
    "Digamos que temos $P_k$ pontos 3D que se deseja obter suas coordenadas, para $k=1,...,O$ , adquirem-se suas coordenadas em pixel $\\mathbf{u_{nk}}$ em cada imagem $n$.\n",
    "\n",
    "Tomando as equações de ajustamento para os pontos 3D $X_k$ para $k=1,2$ apenas, empilha-se verticalmente o vetor das incógnitas e horizontalmnte as matrizes dos coeficientes\n",
    "\n",
    "$\n",
    "\\underbrace{\\left[\n",
    "\\begin{matrix} \n",
    "    \\mathcal{X}_{11} \\\\\n",
    "    \\mathcal{X}_{11} \\\\\n",
    "    \\vdots  \\\\\n",
    "    \\mathcal{X}_{N1} \\\\\n",
    "    \\mathcal{X}_{N1}\n",
    "\\end{matrix} \\ \\ \n",
    "\\begin{matrix} \n",
    "    \\mathcal{X}_{11} \\\\\n",
    "    \\mathcal{X}_{11} \\\\\n",
    "    \\vdots  \\\\\n",
    "    \\mathcal{X}_{N1} \\\\\n",
    "    \\mathcal{X}_{N1}\n",
    "\\end{matrix} \\ \\ \n",
    "\\begin{matrix} \n",
    "    \\mathcal{X}_{11} \\\\\n",
    "    \\mathcal{X}_{11} \\\\\n",
    "    \\vdots  \\\\\n",
    "    \\mathcal{X}_{N1} \\\\\n",
    "    \\mathcal{X}_{N1}\n",
    "\\end{matrix} \\ \\ \n",
    "\\begin{matrix} \n",
    "    \\mathcal{X}_{11} \\\\\n",
    "    \\mathcal{X}_{11} \\\\\n",
    "    \\vdots  \\\\\n",
    "    \\mathcal{X}_{N1} \\\\\n",
    "    \\mathcal{X}_{N1}\n",
    "\\end{matrix} \\ \\ \n",
    "\\begin{matrix} \n",
    "    \\mathcal{X}_{12} \\\\\n",
    "    \\mathcal{X}_{11} \\\\\n",
    "    \\vdots  \\\\\n",
    "    \\mathcal{X}_{N2} \\\\\n",
    "    \\mathcal{X}_{N2}\n",
    "\\end{matrix} \\ \\ \n",
    "\\begin{matrix} \n",
    "    \\mathcal{X}_{12} \\\\\n",
    "    \\mathcal{X}_{12} \\\\\n",
    "    \\vdots  \\\\\n",
    "    \\mathcal{X}_{N2} \\\\\n",
    "    \\mathcal{X}_{N2}\n",
    "\\end{matrix} \\ \\ \n",
    "\\begin{matrix} \n",
    "    \\mathcal{X}_{12} \\\\\n",
    "    \\mathcal{X}_{12} \\\\\n",
    "    \\vdots  \\\\\n",
    "    \\mathcal{X}_{N2} \\\\\n",
    "    \\mathcal{X}_{N2}\n",
    "\\end{matrix} \\ \\ \n",
    "\\begin{matrix} \n",
    "    \\mathcal{X}_{12} \\\\\n",
    "    \\mathcal{X}_{12} \\\\\n",
    "    \\vdots  \\\\\n",
    "    \\mathcal{X}_{N2} \\\\\n",
    "    \\mathcal{X}_{N2}\n",
    "\\end{matrix}\n",
    "\\right] }_{2N \\times 8}\n",
    "  \\odot\n",
    "\\underbrace{\\left[\n",
    "    \\begin{matrix} \n",
    "        u_{11}P_1^3 - P_1^1 \\\\ v_{11}P_1^3 - P_1^2 \\\\ \n",
    "        \\vdots \\\\\n",
    "        u_{21}P_N^3 - P_N^1 \\\\ v_{21}P_N^3 - P_N^2 \n",
    "    \\end{matrix} \\ \\ \n",
    "    \\begin{matrix} \n",
    "        u_{12}P_1^3 - P_1^1 \\\\ v_{12}P_1^3 - P_1^2 \\\\ \n",
    "        \\vdots \\\\\n",
    "        u_{22}P_N^3 - P_N^1 \\\\ v_{22}P_N^3 - P_N^2 \n",
    "    \\end{matrix} \n",
    "\\right]\n",
    "}_{2N \\times 8}\n",
    "\\begin{bmatrix} X_1 \\tilde{w}_1\\\\ Y_1\\tilde{w}_1 \\\\ Z_1\\tilde{w}_1 \\\\ \\tilde{w}_1 \\\\ X_2\\tilde{w}_2 \\\\ Y_2\\tilde{w}_2 \\\\ Z_2\\tilde{w}_2 \\\\ \\tilde{w}_2\\end{bmatrix} = 0 \n",
    "$\n",
    "\n",
    "E assim sucessivamente, chamando de $A_k$ a matriz dos coeficientes para o problema de ajustamento para o ponto 3D $\\mathbf{X_k}$, para $k=1,...,O$ obtemos uma única matriz da forma:\n",
    "\n",
    "$ \\underbrace{\\begin{bmatrix} A_1 | A_2 ... | A_O \\end{bmatrix}}_{2N \\times 4O}\n",
    "\\underbrace{\\begin{bmatrix}\\mathbf{X_1}\\\\\\mathbf{X_2}\\\\ \\vdots \\\\\\mathbf{X_O}   \\end{bmatrix}}_{4O \\times 1} = 0 $\n",
    "\n",
    "<b>Porquê não fazer desta maneira?</b>\n",
    "\n",
    "$ A\\overrightarrow{X}=0 \\xrightarrow{ajustamento}$\n",
    "\n",
    "$A\\overrightarrow{X_a}=V$ sujeito a $||\\overrightarrow{X_a}||=1 \\rightarrow $ Neste ponto, imporíamos a condição da norma unitária no intuito de além de evitar a solução trivial para $\\overrightarrow{X_a}$, arbitrar uma escala conveniente para a solução, mas resultando em embaralhamento das escalas entre todos os vetores homogêneos."
   ]
  },
  {
   "cell_type": "markdown",
   "id": "d17e7de9",
   "metadata": {},
   "source": [
    "Implementação do exemplo 2"
   ]
  },
  {
   "cell_type": "code",
   "execution_count": 7,
   "id": "a29ca1a5",
   "metadata": {},
   "outputs": [
    {
     "name": "stdout",
     "output_type": "stream",
     "text": [
      "P0: [ 1.25334  0.39618 -1.30148] --> Erro: 2.689287998411475\n",
      "P1: [0.58318 0.85793 1.36831] --> Erro: 0.5740862769654052\n",
      "P2: [ 0.78604 -0.21105  1.18632] --> Erro: 0.35360447748862006\n",
      "P3: [ 0.07574 -0.01745  0.86612] --> Erro: 0.15480602216968176\n",
      "Erro total: 2.7768410150384915\n"
     ]
    }
   ],
   "source": [
    "A = []\n",
    "ini = 0 # trocar de onde começar k\n",
    "fim = 4 # trocar de onde terminar k\n",
    "for k in range(ini,fim):\n",
    "    Ak = []\n",
    "    for n in range(0,6):\n",
    "        Pn_1 = P[n][0]\n",
    "        Pn_2 = P[n][1]\n",
    "        Pn_3 = P[n][2]\n",
    "        u, v = u_nk[n,k]\n",
    "        if len(Ak) == 0:\n",
    "            Ak = np.array([u * Pn_3 - Pn_1,\n",
    "                           v * Pn_3 - Pn_2,], dtype=float)\n",
    "        else: \n",
    "            aux = np.array([u * Pn_3 - Pn_1,\n",
    "                            v * Pn_3 - Pn_2], dtype=float)\n",
    "            Ak = np.vstack((Ak, aux))\n",
    "    if len(A) == 0:\n",
    "        A = Ak.copy()\n",
    "    else:\n",
    "        A = np.hstack((A, Ak))\n",
    "\n",
    "# print(\"A.shape\", A.shape, f\" / Esperado (2Nx4O) = {2*6 }x{4*8}\")\n",
    "\n",
    "# Adicionando o relê Qui \n",
    "q = qui_nk_expanded[:,4*ini:4*(fim)]\n",
    "\n",
    "A = np.multiply(q, A)\n",
    "# print(A)\n",
    "# Compute eigenvalues and eigenvectors\n",
    "eigenvalues, eigenvectors = np.linalg.eig(A.T @ A)\n",
    "\n",
    "# # Find the index of the minimum eigenvalue\n",
    "min_index = np.argmin(eigenvalues)\n",
    "\n",
    "# # Get the minimum eigenvalue and corresponding eigenvector\n",
    "min_eigenvalue = eigenvalues[min_index]\n",
    "min_eigenvector = eigenvectors[:, min_index]\n",
    "\n",
    "# Remove the imaginary part if exists\n",
    "min_eigenvector = np.real(min_eigenvector)\n",
    "\n",
    "# print(\"X_a =\",min_eigenvector)\n",
    "results = []\n",
    "esperados = []\n",
    "# Captura dos resultados de 4 em 4\n",
    "for i in range(0,fim-ini):\n",
    "    aux = min_eigenvector[i*4:i*4+4]\n",
    "    P_calc_homo = aux/aux[-1] # Normalizando o vetor\n",
    "    P_calc_homo = np.round(P_calc_homo, 5)\n",
    "    P_calc = P_calc_homo[0:3]\n",
    "    P_esperado = esperado[i+ini]\n",
    "    print(f\"P{i+ini}:\", P_calc, \"--> Erro:\", np.linalg.norm(P_esperado-P_calc))\n",
    "    results.append(P_calc)\n",
    "    esperados.append(P_esperado)\n",
    "\n",
    "results = np.array(results)\n",
    "esperados = np.array(esperados)\n",
    "\n",
    "erro = np.linalg.norm(esperados-results)\n",
    "print(\"Erro total:\", erro)"
   ]
  },
  {
   "cell_type": "markdown",
   "id": "55641476",
   "metadata": {},
   "source": [
    "## 2. Técnica para remoção de observações com erros grosseiros (outliers) do ajustamento"
   ]
  },
  {
   "cell_type": "markdown",
   "id": "a737b81e",
   "metadata": {},
   "source": [
    "Existem diversos algoritmos que objetivam remover outliers do ajustametno: \n",
    "- Random Sample Consensus (RANSAC) - mais robusto;\n",
    "- Score baseado em redundância;\n",
    "- Filtro por erro de reprojeção;\n",
    "- ..."
   ]
  },
  {
   "cell_type": "markdown",
   "id": "77490cb8",
   "metadata": {},
   "source": [
    "### Exemplo 3"
   ]
  },
  {
   "cell_type": "markdown",
   "id": "225198a5",
   "metadata": {},
   "source": [
    "<b>Filtro por erro de reprojeção</b>\n",
    "\n",
    "Após a triangulação inicial de um ponto $\\mathbf{X_k}$ , reprojete em todas as câmeras $n$:\n",
    "\n",
    "$\\mathbf{u^{predito}_{nk}} = P_n\\mathbf{X_k}$\n",
    "\n",
    "E calcule o erro de reprojeção:\n",
    "\n",
    "$\\epsilon_{nk} = || \\mathbf{u^{predito}_{nk}} - \\mathbf{u^{utilizado}_{nk}}||$\n",
    "\n",
    "Considere o ponto $\\mathbf{u_{nk}}$ outlier e remova esta observação do ajustamento se $\\epsilon_{nk} > \\tau$, por exemplo 4 a 5 pixels."
   ]
  },
  {
   "cell_type": "markdown",
   "id": "0b648127",
   "metadata": {},
   "source": [
    "## Prática"
   ]
  },
  {
   "cell_type": "markdown",
   "id": "c820433c",
   "metadata": {},
   "source": [
    "#### Problema:"
   ]
  },
  {
   "cell_type": "markdown",
   "id": "b6dd8703",
   "metadata": {},
   "source": [
    "Melhore o erro global das coodenadas dos pontos $P_k$, para $K=0,...7$ se utlizano da técnica de filtro por erro de reprojeção, ou seja, melhor que:\n",
    "\n",
    "\n",
    "    P0: [-0.0046   0.98765  0.99083] --> Erro: 0.0160552608200552\n",
    "    P1: [0.99977 1.00016 1.00031] --> Erro: 0.00041785164831549776\n",
    "    P2: [9.9997e-01 2.1000e-04 9.9985e-01] --> Erro: 0.0002598076211353191\n",
    "    P3: [6.00000e-04 7.50000e-04 1.00051e+00] --> Erro: 0.0010874741376235163\n",
    "    P4: [ 9.98620e-01  1.00067e+00 -4.00000e-05] --> Erro: 0.0015345683432157929\n",
    "    P5: [ 1.00045e+00 -2.80000e-04 -2.00000e-04] --> Erro: 0.0005664803615307906\n",
    "    P6: [-6.20000e-04  1.00042e+00 -2.00000e-05] --> Erro: 0.0007491328320131705\n",
    "    P7: [-0.00326 -0.00278 -0.00376] --> Erro: 0.005700315780726537\n",
    "    Erro total: 0.017173430059251406"
   ]
  },
  {
   "cell_type": "code",
   "execution_count": null,
   "id": "e8bdb40a",
   "metadata": {},
   "outputs": [],
   "source": [
    "# Imports\n",
    "\n",
    "\n",
    "# Funções\n",
    "\n",
    "\n",
    "# Dados\n",
    "\n",
    "\n",
    "# (i) As coordenadas dos pixels correspondentes $\\mathbf{u_{nk}}$ para $n=0,...,5$ e $k=0,...,7$)\n",
    "\n",
    "\n",
    "# (ii) As respectivas matrizes $T_n$, para $n=0,...,5$ e $K$ são:\n",
    "\n",
    "\n",
    "# (iii) As matrizes de projeção $P_n$, para $n=0,...,5$ e $K$ são:\n",
    "\n",
    "\n",
    "# (iv) Ajustamento\n",
    "\n",
    "\n",
    "# (v) Reprojeção e seleção de outliers\n",
    "\n",
    "\n",
    "# (vi) Considerar outliers como ponto não visualizados na imagem\n",
    "\n",
    "\n",
    "# (vii) usar os demais pontos para refazer o ajustamento\n",
    "\n"
   ]
  }
 ],
 "metadata": {
  "kernelspec": {
   "display_name": "myenv",
   "language": "python",
   "name": "python3"
  },
  "language_info": {
   "codemirror_mode": {
    "name": "ipython",
    "version": 3
   },
   "file_extension": ".py",
   "mimetype": "text/x-python",
   "name": "python",
   "nbconvert_exporter": "python",
   "pygments_lexer": "ipython3",
   "version": "3.12.9"
  }
 },
 "nbformat": 4,
 "nbformat_minor": 5
}
