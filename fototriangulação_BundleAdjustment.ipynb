{
 "cells": [
  {
   "cell_type": "markdown",
   "id": "b9d1bac6",
   "metadata": {},
   "source": [
    "## Sumário\n",
    "\n",
    "1. Fototriangulação pelo método dos feixes perspectivos (bundle adjustment) - Visão geral e planejamento\n",
    "\n",
    "2. Formulação do Bundle Adjustment\n",
    "\n",
    "3. Técnicas de coorrespondência automática de pontos entre imagens sobrepostas\n"
   ]
  },
  {
   "cell_type": "markdown",
   "id": "28ce8ea6",
   "metadata": {},
   "source": [
    "## 1. Fototriangulação pelo método dos feixes perspectivos (bundle adjustment) - Visão geral e planejamento"
   ]
  },
  {
   "cell_type": "markdown",
   "id": "d58b0169",
   "metadata": {},
   "source": [
    "Geração de um modelo fotogramétrico único ao ajustar simultaneamente os parâmetros da orientação exterior das imagens e as coordenadas dos pontos no espaço, <u>garantindo maior precisão na reconstrução tridimensional</u>.\n",
    "\n",
    "Objetiva determinar as coordenadas 3D de pontos no terreno a partir de várias fotografias aéreas."
   ]
  },
  {
   "cell_type": "markdown",
   "id": "b6ceb544",
   "metadata": {},
   "source": [
    "| Método     | Parâmetros |\n",
    "| ------------- | ------------- | \n",
    "| <img src=\"data/fototriangulação_analítica.png\" width=400 > | Bundle Adjustment:<br>• Os pontos correspondentes de coordenadas conhecidas (GCP) podem estar presentes em várias imagens (bloco) ao mesmo tempo e isso será levado em conta no ajustamento; <br>• Melhor aproveitamento da sobreposição das imagens ao custo de maior planejamento do voo.| \n",
    "| <img src=\"data/fototriangulação_analítica.png\" width=400> | Modelos independentes:<br>• Os pontos correspondentes de coordenadas conhecidas (GCP) poderiam até estar presentes em várias imagens ao mesmo tempo mas essa informação não é considerada no ajustamentodos dos pares estereoscópicos.  | \n",
    "\n",
    "\n",
    " "
   ]
  },
  {
   "cell_type": "markdown",
   "id": "1fd69c99",
   "metadata": {},
   "source": [
    "<b>Recomendações:</b>\n",
    "\n",
    "- Planejar a escala da foto, altura do voo, superposição longitudinal e lateral, tolerância da atitude, números de faixas, números de fotos por faixa, etc;\n",
    "- Espaçamento planimétrico dos GCP - H. M. Karara (extraídas de T34-304, 1984): $n = 0,047 \\sqrt{\\frac{25000d_{carta}}{d_{foto}}}$ , onde:\n",
    "    - $d_{carta}$ é denominador da escala da carta; e\n",
    "    - $d_{foto}$ é denominador da escala da foto;\n",
    "- Espaçamento planimétrico das bases - Andrade (1998): $B = T_{foto}d_{foto}\\left (\\frac{100-R_{long}}{100} \\right )$, onde:\n",
    "    - O termo <i>base</i> ($B$) é considerado o valor da distância, no sistema do espaço-objeto, entre os centros de perspectiva de duas exposições sucessivas, ao longo da mesma faixa de vôo, ou seja, a distânica longitudinal entre duas fotografias sucessivas;\n",
    "    - $T_{foto}$ é o tamanho da foto no sentido longitudinal;\n",
    "    - $R_{long}$ é a porcentagem do recobrimento longitudinal desejada, recomenda-se 60%;\n",
    "- Espaçamento entre faixas: $D = T_{foto}d_{foto}\\left (\\frac{100-R_{lateral}}{100} \\right )$, onde:\n",
    "    - $R_{lateral}$ é a porcentagem do recobrimento lateral desejada, recomenda-se 30%;\n",
    "- Área útil: $A_{útil} = BD$;\n",
    "- Número de fotos total: $N_{fotos} = A_{total}/A_{útil}$ ;\n",
    "- GCP sinalizados em superfícies de altura constante (lagos, terraços do mesmo prédio), podem agilizar o campo.\n",
    "- Vôo apoiado por GPS: \n",
    "    - Utilizar-se do <u>modo cinemático, podendo ser pós processado,</u> para o conhecimento dos parâmetros de orientação exterior para cada tomada da foto (com precisão posicional centimétrica);\n",
    "    - Caso seja usado o <u>modo RTK (Real Time Kinematic– método de posicionamento relativo cinemático em tempo real),</u> pode-se até mesmo  realizar-se o restante da aerotriangulação em tempo real (on-the-fly). É muito empregado em sistemas automáticos de fotogrametria. Ver [matrice-350-rtk](https://enterprise.dji.com/pt-br/matrice-350-rtk); \n",
    "    - Nestes casos, dispensa-se o conhecimento de coordenadas de quaisquer pontos de campo."
   ]
  },
  {
   "cell_type": "markdown",
   "id": "db0bf2b8",
   "metadata": {},
   "source": [
    "### Exemplo 1"
   ]
  },
  {
   "cell_type": "markdown",
   "id": "cf2159ed",
   "metadata": {},
   "source": [
    "Busca-se realizar um voo fotogramétrico sobre uma área de 450000ha. O recobrimento lateral e longitudinal definidos são 30% e 40%. Pela altura do voo de H metros e pelo Campo de visão da câmera, estima-se que cada foto recubra uma área de 1000x750 m em imagens de 4864x3648 px. Qual o número de fotos total?"
   ]
  },
  {
   "cell_type": "markdown",
   "id": "56fe921a",
   "metadata": {},
   "source": [
    "## 2. Formulação do Bundle Adjustment"
   ]
  },
  {
   "cell_type": "markdown",
   "id": "e735e270",
   "metadata": {},
   "source": [
    "Os principais elementos envolvidos no bundle adjustment são:\n",
    "\n",
    "- $\\Theta = [P_1,...,P_N,X_1,...,X_M]$ que minimize a função de custo:\n",
    "    -  $\\mathcal{L}(\\Theta) = \\sum_{i=1}^M\\sum_{j=1}^N \\mathcal{X_{ij}}|| \\mathbf{u_{ij}} - P_i \\mathbf{X_j}||^2 = min$\n",
    "- Conjunto de pontos fotogramétricos no espaço-objeto $\\mathbf{X_j} \\ (X_{j}, Y_{j}, Z_{j})$ para $j=1,...,M$ a serem ajustados;\n",
    "- Conjunto de matrizes de projeção espaço-objeto para espaço imagem $P_i = K_iT_i$ para $i=1,...,N$ onde\n",
    "    - $K_i$ e $T_i$ são as respectivas matrizes de parâmetros intrísecos e extrínsecos a serem ajustados;\n",
    "    - Caso a distância focal esteja automática, ou seja, variando, um conjunto de matrizes íntrínsecas $K_i$ a serem ajustadas, caso a distância focal esteja fixa, apenas uma matriz íntrínseca $K$ a ser ajustada;\n",
    "- Conhecidos os pontos de controle no espaço-objeto $\\mathbf{X_k} \\ (X_{k}, Y_{k}, Z_{k})$ para $k=M+1,...,O$ ;\n",
    "- Conhecidos os pontos no espaço-imagem $\\mathbf{u_{ij}}\\ ( u_{ij},v_{ij})$ correspondentes a coordenada observada do ponto 3D fotogramétrico $j$ na imagem $i$;\n",
    "- Conhecidos os pontos no espaço-imagem $\\mathbf{u_{ik}}\\ ( u_{ik},v_{ik})$ correspondentes a coordenada observada do ponto 3D de controle $k$ na imagem $i$;\n",
    "- $P_i\\mathbf{X_j}$ é a reprojecção do ponto 3D $j$ na imagem $i$;\n",
    "- $\\mathbf{u_{ij}} - P_i\\mathbf{X_j}$ é o vetor de resíduos;\n",
    "- $\\mathcal{X_{ij}}$ e $\\mathcal{X_{ik}} = 1 $ se o ponto 3D é visto na imagem $i$ e caso contrário, $0$.\n",
    "- O bloco é um conjunto de imagens sobrepostas."
   ]
  },
  {
   "cell_type": "markdown",
   "id": "0300092b",
   "metadata": {},
   "source": [
    "#### Matricialização do problema"
   ]
  },
  {
   "cell_type": "markdown",
   "id": "75391c33",
   "metadata": {},
   "source": [
    "Objetiva-se remanejar as equações e os parâmetros até obter uma equação na forma $L_b=F(X)$:"
   ]
  },
  {
   "cell_type": "markdown",
   "id": "119301e4",
   "metadata": {},
   "source": [
    "1. Começamos lembrando da equação para um ponto 3D qualquer em uma imagem:\n"
   ]
  },
  {
   "cell_type": "markdown",
   "id": "c5283fbd",
   "metadata": {},
   "source": [
    "$$\n",
    "\\begin{bmatrix} \\tilde{u} \\\\ \\tilde{v} \\\\ \\tilde{w} \\end{bmatrix} = \n",
    "\\begin{bmatrix}P_{11} & P_{12} & P_{13} & P_{14}\\\\P_{21} & P_{22} & P_{23} & P_{24}\\\\P_{31} & P_{32} & P_{33} & P_{34}\\end{bmatrix}\\begin{bmatrix} X \\\\ Y \\\\ Z \\\\ 1 \\end{bmatrix} = \\left[\\begin{matrix}P_{11} X + P_{12} Y + P_{13} Z + P_{14}\\\\P_{21} X + P_{22} Y + P_{23} Z + P_{24}\\\\P_{31} X + P_{32} Y + P_{33} Z + P_{34}\\end{matrix}\\right] \\rightarrow\n",
    "$$\n",
    "$$\n",
    "\\begin{bmatrix} u \\\\  v \\\\ 1\\end{bmatrix} = \n",
    "\\begin{bmatrix}\\frac{P_{11} X + P_{12} Y + P_{13} Z + P_{14}}{P_{31} X + P_{32} Y + P_{33} Z + P_{34}}\\\\ \\\\ \\frac{P_{21} X + P_{22} Y + P_{23} Z + P_{24}}{P_{31} X + P_{32} Y + P_{33} Z + P_{34}} \\\\ \\\\1 \\end{bmatrix}\n",
    "$$"
   ]
  },
  {
   "cell_type": "markdown",
   "id": "a5435891",
   "metadata": {},
   "source": [
    "2. a) A equação para todos os pontos 3D fotogramétricos $j=1,...,M$ em uma imagem $i$:"
   ]
  },
  {
   "cell_type": "markdown",
   "id": "1e9fefba",
   "metadata": {},
   "source": [
    "$$\n",
    "\\begin{bmatrix} u_{i1} & u_{i2} & \\dots & u_{iM}\\\\  v_{i1} & v_{i2} & \\dots & v_{iM} \\\\ 1&1& \\dots &1\\end{bmatrix} =\n",
    "\\begin{bmatrix} \n",
    "\n",
    "    \\frac{P^i_{11} X_1 + P^i_{12} Y_1 + P^i_{13} Z_1 + P^i_{14}}{P^i_{31} X_1 + P^i_{32} Y_1 + P^i_{33} Z_1 + P^i_{34}} & \n",
    "    \\frac{P^i_{11} X_2 + P^i_{12} Y_2 + P^i_{13} Z_2 + P^i_{14}}{P^i_{31} X_2 + P^i_{32} Y_2 + P^i_{33} Z_2 + P^i_{34}} &\n",
    "    \\dots &\n",
    "    \\frac{P^i_{11} X_M + P^i_{12} Y_M + P^i_{13} Z_M + P^i_{14}}{P^i_{31} X_M + P^i_{32} Y_M + P^i_{33} Z_M + P^i_{34}}  \\\\ \\\\ \n",
    "\n",
    "    \\frac{P^i_{21} X_1 + P^i_{22} Y_1 + P^i_{23} Z_1 + P^i_{24}}{P^i_{31} X_1 + P^i_{32} Y_1 + P^i_{33} Z_1 + P^i_{34}} & \n",
    "    \\frac{P^i_{21} X_2 + P^i_{22} Y_2 + P^i_{23} Z_2 + P^i_{24}}{P^i_{31} X_2 + P^i_{32} Y_2 + P^i_{33} Z_2 + P^i_{34}} & \n",
    "    \\dots &\n",
    "    \\frac{P^i_{21} X_M + P^i_{22} Y_M + P^i_{23} Z_M + P^i_{24}}{P^i_{31} X_M + P^i_{32} Y_M + P^i_{33} Z_M + P^i_{34}} \\\\ \\\\\n",
    "1 & 1 & \\dots & 1\n",
    "\\end{bmatrix} \n",
    "$$"
   ]
  },
  {
   "cell_type": "markdown",
   "id": "a5d3ca02",
   "metadata": {},
   "source": [
    "2. b) Da mesma forma, as injuções entram no sistema de equações. Para todos os pontos 3D de controle $k=M+1,...,O$ em uma imagem $i$:"
   ]
  },
  {
   "cell_type": "markdown",
   "id": "c7f764cd",
   "metadata": {},
   "source": [
    "$$\n",
    "\\begin{bmatrix} \n",
    "u^{}_{iM+1}& \n",
    "\\dots & \n",
    "u_{iO} \\\\  \n",
    "v^{}_{iM+1}  &\n",
    "\\dots &\n",
    "v_{iO}\\\\ \n",
    "1& \\dots &1\\end{bmatrix} = \\begin{bmatrix} \n",
    "\\frac{P^i_{11} X_{M+1} + P^i_{12} Y_{M+1} + P^i_{13} Z_{M+1} + P^i_{14}}{P^i_{31} X_{M+1} + P^i_{32} Y_{M+1} + P^i_{33} Z_{M+1} + P^i_{34}}& \n",
    "\\dots & \n",
    "\\frac{P^i_{11} X_O + P^i_{12} Y_O + P^i_{13} Z_O + P^i_{14}}{P^i_{31} X_O + P^i_{32} Y_O + P^i_{33} Z_O + P^i_{34}}\\\\  \\\\\n",
    "\\frac{P^i_{21} X_{M+1} + P^i_{22} Y_{M+1} + P^i_{23} Z_{M+1} + P^i_{24}}{P^i_{31} X_{M+1} + P^i_{32} Y_{M+1} + P^i_{33} Z_{M+1} + P^i_{34}} &\n",
    "\\dots &\n",
    "\\frac{P^i_{21} X_O + P^i_{22} Y_O + P^i_{23} Z_O + P^i_{24}}{P^i_{31} X_O + P^i_{32} Y_O + P^i_{33} Z_O + P^i_{34}}\\\\ \\\\\n",
    "1& \\dots &1\\end{bmatrix}\n",
    "$$"
   ]
  },
  {
   "cell_type": "markdown",
   "id": "dfce6975",
   "metadata": {},
   "source": [
    "2. c) Eliminando a 3ª linha e juntando as equações para os pontos fotogramétricos (desconhecidos) e as injunções dos pontos de controle (conhecidos), temos:"
   ]
  },
  {
   "cell_type": "markdown",
   "id": "afa26d4d",
   "metadata": {},
   "source": [
    "$$\n",
    "\\begin{bmatrix} \n",
    "    u^{}_{i1}& \\dots & u_{iO} \\\\  \n",
    "    v^{}_{i1} & \\dots & v_{iO}\n",
    "\\end{bmatrix} =\n",
    "\\begin{bmatrix} \n",
    "    \\frac{P^i_{11} X_{1} + P^i_{12} Y_{1} + P^i_{13} Z_{1} + P^i_{14}}{P^i_{31} X_{1} + P^i_{32} Y_{1} + P^i_{33} Z_{1} + P^i_{34}} & \n",
    "    \\dots & \n",
    "    \\frac{P^i_{11} X_O + P^i_{12} Y_O + P^i_{13} Z_O + P^i_{14}}{P^i_{31} X_O + P^i_{32} Y_O + P^i_{33} Z_O + P^i_{34}}\\\\  \\\\\n",
    "    \\frac{P^i_{21} X_{1} + P^i_{22} Y_{1} + P^i_{23} Z_{1} + P^i_{24}}{P^i_{31} X_{1} + P^i_{32} Y_{1} + P^i_{33} Z_{1} + P^i_{34}} &\n",
    "    \\dots &\n",
    "    \\frac{P^i_{21} X_O + P^i_{22} Y_O + P^i_{23} Z_O + P^i_{24}}{P^i_{31} X_O + P^i_{32} Y_O + P^i_{33} Z_O + P^i_{34}}\n",
    "\\end{bmatrix}\n",
    "$$"
   ]
  },
  {
   "cell_type": "markdown",
   "id": "b52a0d3f",
   "metadata": {},
   "source": [
    "3. Acrecentando o relê $\\mathcal{X}$ que define quais pontos 3D fotograméticos $j$ e de controle $k$ são vistos pela imagem $i$:"
   ]
  },
  {
   "cell_type": "markdown",
   "id": "adb80970",
   "metadata": {},
   "source": [
    "$$\n",
    "\\left[\n",
    "\\begin{matrix} \\mathcal{X}_{i1}u_{i1} \\\\ \\mathcal{X}_{i1}v_{i1} \\end{matrix} \\ \\ \n",
    "                \\begin{matrix} \\dots  \\\\ \\dots   \\end{matrix} \\ \\ \\ \n",
    "\\begin{matrix} \\mathcal{X}_{iO}u_{iO} \\\\ \\mathcal{X}_{iO}v_{iO}  \\end{matrix}\n",
    "\\right]_{2\\times O} = \n",
    "\\begin{bmatrix} \n",
    "\n",
    "    \\mathcal{X}_{i1}\\frac{P^i_{11} X_1 + P^i_{12} Y_1 + P^i_{13} Z_1 + P^i_{14}}{P^i_{31} X_1 + P^i_{32} Y_1 + P^i_{33} Z_1 + P^i_{34}} & \n",
    "    \\dots &\n",
    "    \\mathcal{X}_{iO}\\frac{P^i_{11} X_O + P^i_{12} Y_O + P^i_{13} Z_O + P^i_{14}}{P^i_{31} X_O + P^i_{32} Y_O + P^i_{33} Z_O + P^i_{34}}  \\\\ \\\\ \n",
    "\n",
    "    \\mathcal{X}_{i1}\\frac{P^i_{21} X_1 + P^i_{22} Y_1 + P^i_{23} Z_1 + P^i_{24}}{P^i_{31} X_1 + P^i_{32} Y_1 + P^i_{33} Z_1 + P^i_{34}} & \n",
    "    \\dots &\n",
    "    \\mathcal{X}_{iO}\\frac{P^i_{21} X_O + P^i_{22} Y_O + P^i_{23} Z_O + P^i_{24}}{P^i_{31} X_O + P^i_{32} Y_O + P^i_{33} Z_O + P^i_{34}} \n",
    "\\end{bmatrix} \n",
    "$$"
   ]
  },
  {
   "cell_type": "markdown",
   "id": "4384be84",
   "metadata": {},
   "source": [
    "4. Vetorizando-se os dois lados da equação dos pontos 3D (<i>column major style</i>), temos:"
   ]
  },
  {
   "cell_type": "markdown",
   "id": "7f016af6",
   "metadata": {},
   "source": [
    "$$\n",
    "\\left[\n",
    "\\begin{matrix} \n",
    "\\mathcal{X}_{i1}u_{i1} \\\\ \\mathcal{X}_{i1}v_{i1}  \\\\\n",
    "\\vdots   \\\\\n",
    "\\mathcal{X}_{iO}u_{iO} \\\\ \\mathcal{X}_{iO}v_{iO}  \\end{matrix}\n",
    "\\right]_{2O \\times 1} = \n",
    "\\begin{bmatrix} \n",
    "\n",
    "    \\mathcal{X}_{i1}\\frac{P^i_{11} X_1 + P^i_{12} Y_1 + P^i_{13} Z_1 + P^i_{14}}{P^i_{31} X_1 + P^i_{32} Y_1 + P^i_{33} Z_1 + P^i_{34}} \\\\\n",
    "    \\mathcal{X}_{i1}\\frac{P^i_{21} X_1 + P^i_{22} Y_1 + P^i_{23} Z_1 + P^i_{24}}{P^i_{31} X_1 + P^i_{32} Y_1 + P^i_{33} Z_1 + P^i_{34}}  \\\\\n",
    "    \\vdots \\\\\n",
    "    \\mathcal{X}_{iO}\\frac{P^i_{11} X_O + P^i_{12} Y_O + P^i_{13} Z_O + P^i_{14}}{P^i_{31} X_O + P^i_{32} Y_M + P^i_{33} Z_M + P^i_{34}}  \\\\ \n",
    "    \\mathcal{X}_{iO}\\frac{P^i_{21} X_O + P^i_{22} Y_O + P^i_{23} Z_O + P^i_{24}}{P^i_{31} X_O + P^i_{32} Y_M + P^i_{33} Z_M + P^i_{34}} \\\\ \n",
    "\\end{bmatrix} \n",
    "$$"
   ]
  },
  {
   "cell_type": "markdown",
   "id": "1c25c89d",
   "metadata": {},
   "source": [
    "5. A equação matricial para todas as imagens $i=1,...,N$ e todos os pontos 3D fica:"
   ]
  },
  {
   "cell_type": "markdown",
   "id": "98ea9b1e",
   "metadata": {},
   "source": [
    "$$\n",
    "\\left[\n",
    "\\begin{matrix} \n",
    "    \\mathcal{X_{11}}u_{11} \\\\ \\mathcal{X}_{11}v_{11}  \\\\\n",
    "    \\vdots   \\\\\n",
    "    \\mathcal{X}_{1O}u_{1O} \\\\ \\mathcal{X}_{1O}v_{1O} \\\\ \n",
    "\\end{matrix} \\ \\ \\ \n",
    "\\begin{matrix} \\dots \\\\ \\dots\\\\ \\ddots\\\\ \\dots\\\\ \\dots \\end{matrix}  \\ \\ \\ \n",
    "\\begin{matrix} \n",
    "    \\mathcal{X}_{N1}u_{N1} \\\\ \\mathcal{X}_{N1}v_{N1}  \\\\\n",
    "    \\vdots   \\\\\n",
    "    \\mathcal{X}_{NO}u_{NO} \\\\ \\mathcal{X}_{NO}v_{NO} \n",
    "\\end{matrix}\n",
    "\\right]_{2O \\times N} = \n",
    "\n",
    "\\left[\n",
    "\\begin{matrix} \n",
    "    \\mathcal{X}_{11}\\frac{P^1_{11} X_1 + P^1_{12} Y_1 + P^1_{13} Z_1 + P^1_{14}}{P^1_{31} X_1 + P^1_{32} Y_1 + P^1_{33} Z_1 + P^1_{34}} \\\\\n",
    "    \\mathcal{X}_{11}\\frac{P^1_{21} X_1 + P^1_{22} Y_1 + P^1_{23} Z_1 + P^1_{24}}{P^1_{31} X_1 + P^1_{32} Y_1 + P^1_{33} Z_1 + P^1_{34}}  \\\\\n",
    "    \\vdots \\\\\n",
    "    \\mathcal{X}_{1O}\\frac{P^1_{11} X_O + P^1_{12} Y_O + P^1_{13} Z_O + P^1_{14}}{P^1_{31} X_O + P^1_{32} Y_O + P^1_{33} Z_O + P^1_{34}}  \\\\ \n",
    "    \\mathcal{X}_{1O}\\frac{P^1_{21} X_O + P^1_{22} Y_O + P^1_{23} Z_O + P^1_{24}}{P^1_{31} X_O + P^1_{32} Y_O + P^1_{33} Z_O + P^1_{34}} \n",
    "\\end{matrix}  \\ \\ \\ \n",
    "\\begin{matrix}  \\ddots \\end{matrix}  \\ \\ \\ \n",
    "\\begin{matrix} \n",
    "    \\mathcal{X}_{N1}\\frac{P^N_{11} X_1 + P^N_{12} Y_1 + P^N_{13} Z_1 + P^N_{14}}{P^N_{31} X_1 + P^N_{32} Y_1 + P^N_{33} Z_1 + P^N_{34}} \\\\\n",
    "    \\mathcal{X}_{N1}\\frac{P^N_{21} X_1 + P^N_{22} Y_1 + P^N_{23} Z_1 + P^N_{24}}{P^N_{31} X_1 + P^N_{32} Y_1 + P^N_{33} Z_1 + P^N_{34}}  \\\\\n",
    "    \\vdots \\\\\n",
    "    \\mathcal{X}_{NO}\\frac{P^N_{11} X_O + P^N_{12} Y_O + P^N_{13} Z_O + P^N_{14}}{P^N_{31} X_O + P^N_{32} Y_O + P^N_{33} Z_O + P^N_{34}}  \\\\ \n",
    "    \\mathcal{X}_{NO}\\frac{P^N_{21} X_O + P^N_{22} Y_O + P^N_{23} Z_O + P^N_{24}}{P^N_{31} X_O + P^N_{32} Y_O + P^N_{33} Z_O + P^N_{34}} \n",
    "\\end{matrix}\n",
    "\\right]\n",
    "$$"
   ]
  },
  {
   "cell_type": "markdown",
   "id": "7b960d58",
   "metadata": {},
   "source": [
    "6. Vetorizando-se novamente os dois lados da equação dos pontos 3D (<i>column major style</i>), temos:"
   ]
  },
  {
   "cell_type": "markdown",
   "id": "fe694b9d",
   "metadata": {},
   "source": [
    "$$\n",
    "\\underbrace{\\left[\n",
    "\\begin{matrix} \n",
    "    \\mathcal{X_{11}}u_{11} \\\\ \\mathcal{X}_{11}v_{11}  \\\\\n",
    "    \\vdots   \\\\\n",
    "    \\mathcal{X}_{1O}u_{1O} \\\\ \\mathcal{X}_{1O}v_{1O} \\\\ \n",
    "    \\vdots \\\\\n",
    "    \\mathcal{X}_{N1}u_{N1} \\\\ \\mathcal{X}_{N1}v_{N1}  \\\\\n",
    "    \\vdots   \\\\\n",
    "    \\mathcal{X}_{NO}u_{NO} \\\\ \\mathcal{X}_{NO}v_{NO} \n",
    "\\end{matrix}\n",
    "\\right]_{2ON \\times 1}}_{L_{b}} = \n",
    "\n",
    "\\underbrace{\n",
    "\\left[\n",
    "\\begin{matrix} \n",
    "    \\mathcal{X}_{11}\\frac{P^1_{11} X_1 + P^1_{12} Y_1 + P^1_{13} Z_1 + P^1_{14}}{P^1_{31} X_1 + P^1_{32} Y_1 + P^1_{33} Z_1 + P^1_{34}} \\\\\n",
    "    \\mathcal{X}_{11}\\frac{P^1_{21} X_1 + P^1_{22} Y_1 + P^1_{23} Z_1 + P^1_{24}}{P^1_{31} X_1 + P^1_{32} Y_1 + P^1_{33} Z_1 + P^1_{34}}  \\\\\n",
    "    \\vdots \\\\\n",
    "    \\mathcal{X}_{1O}\\frac{P^1_{11} X_O + P^1_{12} Y_O + P^1_{13} Z_O + P^1_{14}}{P^1_{31} X_O + P^1_{32} Y_O + P^1_{33} Z_O + P^1_{34}}  \\\\ \n",
    "    \\mathcal{X}_{1O}\\frac{P^1_{21} X_O + P^1_{22} Y_O + P^1_{23} Z_O + P^1_{24}}{P^1_{31} X_O + P^1_{32} Y_O + P^1_{33} Z_O + P^1_{34}} \\\\\n",
    "    \\vdots \\\\\n",
    "    \\mathcal{X}_{N1}\\frac{P^N_{11} X_1 + P^N_{12} Y_1 + P^N_{13} Z_1 + P^N_{14}}{P^N_{31} X_1 + P^N_{32} Y_1 + P^N_{33} Z_1 + P^N_{34}} \\\\\n",
    "    \\mathcal{X}_{N1}\\frac{P^N_{21} X_1 + P^N_{22} Y_1 + P^N_{23} Z_1 + P^N_{24}}{P^N_{31} X_1 + P^N_{32} Y_1 + P^N_{33} Z_1 + P^N_{34}}  \\\\\n",
    "    \\vdots \\\\\n",
    "    \\mathcal{X}_{NO}\\frac{P^N_{11} X_O + P^N_{12} Y_O + P^N_{13} Z_O + P^N_{14}}{P^N_{31} X_O + P^N_{32} Y_O + P^N_{33} Z_O + P^N_{34}}  \\\\ \n",
    "    \\mathcal{X}_{NO}\\frac{P^N_{21} X_O + P^N_{22} Y_O + P^N_{23} Z_O + P^N_{24}}{P^N_{31} X_O + P^N_{32} Y_O + P^N_{33} Z_O + P^N_{34}} \n",
    "\\end{matrix}\n",
    "\\right] }_{F(X)}\n",
    "$$"
   ]
  },
  {
   "cell_type": "markdown",
   "id": "aaf0ad62",
   "metadata": {},
   "source": [
    "Onde cada $P_i$ deve ser substítuído por:\n",
    "\n",
    "$$\n",
    "P_i = \\begin{bmatrix} P^i_{11}\\\\ P^i_{12}\\\\ P^i_{13}\\\\ P^i_{21}\\\\ P^i_{22}\\\\ P^i_{23}\\\\ P^i_{31}\\\\ P^i_{32}\\\\ P^i_{33}\\\\ \\end{bmatrix} = \\left[\\begin{matrix}R^i_{11} f_{x} + R^i_{31} c_{x}\\\\R^i_{12} f_{x} + R^i_{32} c_{x}\\\\R^i_{13} f_{x} + R^i_{33} c_{x}\\\\c_{x} t^i_{z} + f_{x} t^i_{x}\\\\- R^i_{21} f_{y} + R^i_{31} c_{y}\\\\- R^i_{22} f_{y} + R^i_{32} c_{y}\\\\- R^i_{23} f_{y} + R^i_{33} c_{y}\\\\c_{y} t^i_{z} - f_{y} t^i_{y}\\\\R^i_{31}\\\\R^i_{32}\\\\R^i_{33}\\\\t^i_{z}\\end{matrix}\\right] = \\left[\\begin{matrix}- c_{x} \\sin{\\left(\\phi^i \\right)} + f_{x} \\cos{\\left(\\kappa^i \\right)} \\cos{\\left(\\phi^i \\right)}\\\\c_{x} \\sin{\\left(\\omega^i \\right)} \\cos{\\left(\\phi^i \\right)} + f_{x} \\left(- \\sin{\\left(\\kappa^i \\right)} \\cos{\\left(\\omega^i \\right)} + \\sin{\\left(\\phi^i \\right)} \\sin{\\left(\\omega^i \\right)} \\cos{\\left(\\kappa^i \\right)}\\right)\\\\c_{x} \\cos{\\left(\\phi^i \\right)} \\cos{\\left(\\omega^i \\right)} + f_{x} \\left(\\sin{\\left(\\kappa^i \\right)} \\sin{\\left(\\omega^i \\right)} + \\sin{\\left(\\phi^i \\right)} \\cos{\\left(\\kappa^i \\right)} \\cos{\\left(\\omega^i \\right)}\\right)\\\\c_{x} t^i_{z} + f_{x} t^i_{x}\\\\- c_{y} \\sin{\\left(\\phi^i \\right)} - f_{y} \\sin{\\left(\\kappa^i \\right)} \\cos{\\left(\\phi^i \\right)}\\\\c_{y} \\sin{\\left(\\omega^i \\right)} \\cos{\\left(\\phi^i \\right)} - f_{y} \\left(\\sin{\\left(\\kappa^i \\right)} \\sin{\\left(\\phi^i \\right)} \\sin{\\left(\\omega^i \\right)} + \\cos{\\left(\\kappa^i \\right)} \\cos{\\left(\\omega^i \\right)}\\right)\\\\c_{y} \\cos{\\left(\\phi^i \\right)} \\cos{\\left(\\omega^i \\right)} - f_{y} \\left(\\sin{\\left(\\kappa^i \\right)} \\sin{\\left(\\phi^i \\right)} \\cos{\\left(\\omega^i \\right)} - \\sin{\\left(\\omega^i \\right)} \\cos{\\left(\\kappa^i \\right)}\\right)\\\\c_{y} t^i_{z} - f_{y} t^i_{y}\\\\- \\sin{\\left(\\phi^i \\right)}\\\\\\sin{\\left(\\omega^i \\right)} \\cos{\\left(\\phi^i \\right)}\\\\\\cos{\\left(\\phi^i \\right)} \\cos{\\left(\\omega^i \\right)}\\\\t^i_{z}\\end{matrix}\\right]\n",
    "$$"
   ]
  },
  {
   "cell_type": "markdown",
   "id": "2ab1cfac",
   "metadata": {},
   "source": [
    "7. Todos os parâmetros são concentrados em um vetor $\\Theta$ a ser ajustado, lembrando que apenas os pontos fotogramétricos $j=1,...,M$ são desconhecidos e que vamos considerar que a distância focal permaneceu constante durante a obtenção das foto, o que leva a uma única matriz intrínseca $K$:\n",
    "\n",
    "$$ \\Theta = \\begin{bmatrix} f_x \\\\ f_y \\\\ c_x \\\\ c_y \\\\ \\phi^1\\\\ \\omega^1 \\\\ \\kappa^1 \\\\ t_x^1 \\\\ t_y^1 \\\\ t_z^1 \\\\ \\vdots \\\\ \\phi^N \\\\ \\omega^N \\\\ \\kappa^N \\\\ t_x^N \\\\ t_y^N \\\\ t_z^N \\\\ X_1 \\\\ Y_1 \\\\ Z_1 \\\\ \\vdots \\\\ X_M \\\\ Y_M \\\\ Z_M\\end{bmatrix}_{(4+6N+3M) \\times 1} $$"
   ]
  },
  {
   "cell_type": "markdown",
   "id": "c0ed9a7f",
   "metadata": {},
   "source": [
    "#### Código auxiliar para o Latex\n"
   ]
  },
  {
   "cell_type": "code",
   "execution_count": 57,
   "id": "00524205",
   "metadata": {},
   "outputs": [
    {
     "data": {
      "text/latex": [
       "$\\displaystyle \\left[\\begin{matrix}χ \\left(u - \\frac{X \\left(- c_{x} \\sin{\\left(φ \\right)} + f_{x} \\cos{\\left(κ \\right)} \\cos{\\left(φ \\right)}\\right) + Y \\left(c_{x} \\sin{\\left(ω \\right)} \\cos{\\left(φ \\right)} + f_{x} \\left(- \\sin{\\left(κ \\right)} \\cos{\\left(ω \\right)} + \\sin{\\left(φ \\right)} \\sin{\\left(ω \\right)} \\cos{\\left(κ \\right)}\\right)\\right) + Z \\left(c_{x} \\cos{\\left(φ \\right)} \\cos{\\left(ω \\right)} + f_{x} \\left(\\sin{\\left(κ \\right)} \\sin{\\left(ω \\right)} + \\sin{\\left(φ \\right)} \\cos{\\left(κ \\right)} \\cos{\\left(ω \\right)}\\right)\\right) + c_{x} t_{z} + f_{x} t_{x}}{- X \\sin{\\left(φ \\right)} + Y \\sin{\\left(ω \\right)} \\cos{\\left(φ \\right)} + Z \\cos{\\left(φ \\right)} \\cos{\\left(ω \\right)} + t_{z}}\\right)\\\\χ \\left(v - \\frac{X \\left(- c_{y} \\sin{\\left(φ \\right)} - f_{y} \\sin{\\left(κ \\right)} \\cos{\\left(φ \\right)}\\right) + Y \\left(c_{y} \\sin{\\left(ω \\right)} \\cos{\\left(φ \\right)} - f_{y} \\left(\\sin{\\left(κ \\right)} \\sin{\\left(φ \\right)} \\sin{\\left(ω \\right)} + \\cos{\\left(κ \\right)} \\cos{\\left(ω \\right)}\\right)\\right) + Z \\left(c_{y} \\cos{\\left(φ \\right)} \\cos{\\left(ω \\right)} - f_{y} \\left(\\sin{\\left(κ \\right)} \\sin{\\left(φ \\right)} \\cos{\\left(ω \\right)} - \\sin{\\left(ω \\right)} \\cos{\\left(κ \\right)}\\right)\\right) + c_{y} t_{z} - f_{y} t_{y}}{- X \\sin{\\left(φ \\right)} + Y \\sin{\\left(ω \\right)} \\cos{\\left(φ \\right)} + Z \\cos{\\left(φ \\right)} \\cos{\\left(ω \\right)} + t_{z}}\\right)\\end{matrix}\\right]$"
      ],
      "text/plain": [
       "Matrix([\n",
       "[χ*(u - (X*(-c_x*sin(φ) + f_x*cos(κ)*cos(φ)) + Y*(c_x*sin(ω)*cos(φ) + f_x*(-sin(κ)*cos(ω) + sin(φ)*sin(ω)*cos(κ))) + Z*(c_x*cos(φ)*cos(ω) + f_x*(sin(κ)*sin(ω) + sin(φ)*cos(κ)*cos(ω))) + c_x*t_z + f_x*t_x)/(-X*sin(φ) + Y*sin(ω)*cos(φ) + Z*cos(φ)*cos(ω) + t_z))],\n",
       "[ χ*(v - (X*(-c_y*sin(φ) - f_y*sin(κ)*cos(φ)) + Y*(c_y*sin(ω)*cos(φ) - f_y*(sin(κ)*sin(φ)*sin(ω) + cos(κ)*cos(ω))) + Z*(c_y*cos(φ)*cos(ω) - f_y*(sin(κ)*sin(φ)*cos(ω) - sin(ω)*cos(κ))) + c_y*t_z - f_y*t_y)/(-X*sin(φ) + Y*sin(ω)*cos(φ) + Z*cos(φ)*cos(ω) + t_z))]])"
      ]
     },
     "execution_count": 57,
     "metadata": {},
     "output_type": "execute_result"
    }
   ],
   "source": [
    "# código auxiliar para o Latex\n",
    "\n",
    "from sympy import symbols, Matrix, sqrt, simplify, latex, cos, sin\n",
    "\n",
    "# Definindo as variáveis simbólicas\n",
    "f_x, f_y, c_x, c_y = symbols('f_x f_y c_x c_y')\n",
    "t_x, t_y, t_z = symbols('t_x t_y t_z')\n",
    "pitch, roll, yaw = symbols('φ ω κ')\n",
    "X, Y, Z = symbols('X Y Z')\n",
    "u, v = symbols('u v')\n",
    "qui = symbols('χ')\n",
    "# R_11, R_12, R_13, R_21, R_22, R_23, R_31, R_32, R_33 = symbols('R_11 R_12 R_13 R_21 R_22 R_23 R_31 R_32 R_33')\n",
    "# P_11, P_12, P_13, P_14, P_21, P_22, P_23, P_24, P_31, P_32, P_33, P_34 = symbols('P_11 P_12 P_13 P_14 P_21 P_22 P_23 P_24 P_31 P_32 P_33 P_34')\n",
    "# P = Matrix([[P_11, P_12, P_13, P_14], [P_21, P_22, P_23, P_24],[ P_31, P_32, P_33, P_34]])\n",
    "\n",
    "\n",
    "# Variáveis compostas\n",
    "R_11 = cos(yaw)*cos(pitch)\n",
    "R_12 = cos(yaw)*sin(pitch)*sin(roll) - sin(yaw)*cos(roll)\n",
    "R_13 = cos(yaw)*sin(pitch)*cos(roll) + sin(yaw)*sin(roll)\n",
    "R_21 = sin(yaw)*cos(pitch)\n",
    "R_22 = sin(yaw)*sin(pitch)*sin(roll) + cos(yaw)*cos(roll)\n",
    "R_23 = sin(yaw)*sin(pitch)*cos(roll) - cos(yaw)*sin(roll)\n",
    "R_31 = -sin(pitch)\n",
    "R_32 = cos(pitch)*sin(roll)\n",
    "R_33 = cos(pitch)*cos(roll)\n",
    "T = Matrix([[R_11, R_21, R_31], [R_12, R_22, R_32], [R_13, R_23, R_33], [t_x, t_y, t_z]]).T\n",
    "K = Matrix([[f_x, 0, c_x],[0, -f_y, c_y], [0, 0, 1]])\n",
    "X_vec= Matrix([X, Y, Z, 1])\n",
    "u_vec = Matrix([u, v])\n",
    "\n",
    "# Vetores calculados\n",
    "P = K * T\n",
    "P_vec = P.reshape(12, 1)\n",
    "reproj = P*X_vec\n",
    "u_pred = Matrix([reproj[0,0]/reproj[2,0], reproj[1,0]/reproj[2,0]])\n",
    "zero = qui*(u_vec - u_pred)\n",
    "\n",
    "zero"
   ]
  },
  {
   "cell_type": "markdown",
   "id": "363b3f01",
   "metadata": {},
   "source": [
    "#### <b>Ajustamento pelo método paramétrico para sistema de equações não lineares:</b>\n",
    "\n",
    "$F(X_a) = F(X_0 + X) = L_a = L_b + V $, onde:\n",
    "- $F$ é uma função não linear;\n",
    "- $L_b$ é o vetor de observações com erros;\n",
    "- $X_a$ é o vetor de incógnitas ajustadas;\n",
    "- $L_a$ é o vetor de observações ajustadas;\n",
    "- $V$ é o vetor de resíduos;\n",
    "- $X_0$ é vetor com valores aproximados dos parâmetros, converge para $X_a$ após algumas iterações;\n",
    "- $X$ é o Vetor correção (incremento) dentro de uma iteração, converge para $0$ após algumas iterações;\n",
    "\n",
    "Neste caso, expandindo o termo $L_b + V = F(X_0 + X)$ pela série de Taylor e\n",
    "desprezando os termos maiores ou iguais a 2, tem-se:\n",
    "\n",
    "$$\n",
    "L_b + V = F(X_0 + X) ≈ \\underbrace{F(X_0)}_{L_0}+ \\underbrace{\\frac{dF}{dX} \\bigg\\rvert_{X=X_0}}_{A}  (X_a-X_0) \\\\\n",
    "\\Phi = V^TV = (\\underbrace{L_0-L_b}_{L}+A\\underbrace{(X_a-X_0)}_{X})^T(\\underbrace{L_0-L_b}_{L}+A\\underbrace{(X_a-X_0)}_{X}) = (AX+L)^T(AX+L) = min  \\\\\n",
    "\\frac{d\\Phi}{dX} \\bigg\\rvert_{X=X_a} = 2A^TAX + 2A^TL = 0 \\\\\n",
    "X = -(A^TA)^{-1}A^TL \\ \\ \\ \\ (1)\n",
    "$$\n",
    "\n",
    "- $A$ é a matriz das derivadas parcias da função não linear em relação às incógnitas (parâmetros);\n",
    "- $L_0$ é a função dos parâmetros aproximados, converge para $L_a$ após algumas iterações;;\n",
    "- $V$ é o vetor de resíduos;\n",
    "- $V=AX+L$ é o modelo linearizado do método paramétrico.\n",
    "\n",
    "O resultado da equação (1) é utilizada para atualizar o valor de $X_0$ e $L_0$ para a iteração seguinte:\n",
    "\n",
    "$$\n",
    "X_a = X^{(2)}_0 = X^{(1)} + X_0^{(1)} \\\\\n",
    "L_a = L^{(2)}_0 = AX^{(1)} + L_0^{(1)}  \\\\\n",
    "L^{(2)} = L^{(2)}_0 - L_b  \\\\\n",
    "A^{(2)} = \\frac{dF}{dX} \\bigg\\rvert_{X=X^{(2)}_0} \\\\\n",
    "X^{(2)} = -({A^{(2)}}^TA^{(2)})^{-1}{A^{(2)}}^TL^{(2)}   \\ \\ \\ \\ (2)\n",
    "$$\n",
    "\n",
    "E assim até que $X^{(iter)}$ se reduza a 0 com determinado grau de tolerânica arbitrário.\n",
    "\n",
    "Para encaixar nosso problema nesta modelagem, partindo da equação $F(X)$, temos:\n",
    "\n",
    "$$\n",
    "F(\\Theta_a ) = F(X_a) = \n",
    "\\begin{bmatrix}\n",
    "  F_1(X_a) \\\\  \n",
    "  F_2(X_a) \\\\ \n",
    "  \\vdots \\\\\n",
    "  F_{2NO-1}(X_a)  \\\\\n",
    "  F_{2NO}(X_a) \n",
    "\\end{bmatrix} = \n",
    "\\left[\n",
    "\\begin{matrix} \n",
    "    \\mathcal{X}_{11}\\frac{P^1_{11} X_1 + P^1_{12} Y_1 + P^1_{13} Z_1 + P^1_{14}}{P^1_{31} X_1 + P^1_{32} Y_1 + P^1_{33} Z_1 + P^1_{34}} \\\\\n",
    "    \\mathcal{X}_{11}\\frac{P^1_{21} X_1 + P^1_{22} Y_1 + P^1_{23} Z_1 + P^1_{24}}{P^1_{31} X_1 + P^1_{32} Y_1 + P^1_{33} Z_1 + P^1_{34}}  \\\\\n",
    "    \\vdots \\\\\n",
    "    \\mathcal{X}_{NO} \\frac{P^N_{11} X_O + P^N_{12} Y_O + P^N_{13} Z_O + P^N_{14}}{P^N_{31} X_O + P^N_{32} Y_O + P^N_{33} Z_O + P^N_{34}}   \\\\\n",
    "    \\mathcal{X}_{NO} \\frac{P^N_{21} X_O + P^N_{22} Y_O + P^N_{23} Z_O + P^N_{24}}{P^N_{31} X_O + P^N_{32} Y_O + P^N_{33} Z_O + P^N_{34}} \n",
    "\\end{matrix}\n",
    "\\right]  \\\\\n",
    "L_b+V = \n",
    "\\begin{bmatrix} \n",
    "    \\mathcal{X_{11}}u_{11}  + e_{1} \\\\ \n",
    "    \\mathcal{X}_{11}v_{11}  + e_{2}\\\\\n",
    "    \\vdots   \\\\\n",
    "    \\mathcal{X}_{NO}u_{NO} + e_{2NO-1}\\\\ \n",
    "    \\mathcal{X}_{NO}v_{NO}  + e_{2NO}\n",
    "\\end{bmatrix}\n",
    "$$\n",
    "\n",
    "Assim:\n",
    "\n",
    "$$\n",
    "A =\n",
    "\\begin{bmatrix}\n",
    "\\frac{dF_1}{dX_a} \\\\\n",
    "\\frac{dF_2}{dX_a} \\\\\n",
    "\\vdots \\\\\n",
    "\\frac{dF_{2NO-1}}{dX_a} \\\\\n",
    "\\frac{dF_{2NO}}{dX_a} \\\\\n",
    "\\end{bmatrix} =\n",
    "\\begin{bmatrix}\n",
    "  \\frac{\\partial F_1}{\\partial f_x} & \\frac{\\partial F_1}{\\partial f_y} & \\dots & \\frac{\\partial F_1}{\\partial X_M} & \\frac{\\partial F_1}{\\partial Y_M} &\\frac{\\partial F_1}{\\partial Z_M} \\\\\n",
    "  \\frac{\\partial F_2}{\\partial f_x} & \\frac{\\partial F_2}{\\partial f_y} & \\dots & \\frac{\\partial F_2}{\\partial X_M} & \\frac{\\partial F_2}{\\partial Y_M} &\\frac{\\partial F_2}{\\partial Z_M} \\\\\n",
    "  \\vdots & \\vdots  & \\ddots & \\vdots & \\vdots & \\vdots \\\\\n",
    "  \\frac{\\partial F_{2NO-1}}{\\partial f_x} & \\frac{\\partial F_{2NO-1}}{\\partial f_y} & \\dots & \\frac{\\partial F_{2NO-1}}{\\partial X_M} & \\frac{\\partial F_{2NO-1}}{\\partial Y_M} &\\frac{\\partial F_{2NO-1}}{\\partial Z_M} \\\\\n",
    "  \\frac{\\partial F_{2NO}}{\\partial f_x} & \\frac{\\partial F_{2NO}}{\\partial f_y} & \\dots & \\frac{\\partial F_{2NO}}{\\partial X_M} & \\frac{\\partial F_{2NO}}{\\partial Y_M} &\\frac{\\partial F_{2NO}}{\\partial Z_M} \\\\\n",
    "\\end{bmatrix}_{2NO \\times (4 + 6N + 3M)}\n",
    "$$\n",
    "\n",
    "Arbitrando $X_0^{(iter = 1)} = [0] $, obtemos $L^{(1)}_0 = F(X^{(1)}_0)$ para a 1ª iteração, devemos encontrar o vetor de correção $X^{(1)}$ através do método descrito pela equação (2), repetindo os cálculos até a tolerânica desejada."
   ]
  },
  {
   "cell_type": "markdown",
   "id": "957181d3",
   "metadata": {},
   "source": [
    "### Exemplo 2 - Coelho (2007)"
   ]
  },
  {
   "cell_type": "markdown",
   "id": "ddcd5805",
   "metadata": {},
   "source": [
    "Considere o bloco das 6 imagens e 16 Pontos 3D abaixo relacionados:\n",
    "\n",
    "<img src=\"data/bloco.png\" width=600>\n",
    "\n",
    "No caso da fig. acima, temos pontos 3D fotogramétricos $X_j$ para $j=5,...,16$ e pontos 3D de controle $X_k$ para $k=1,...,4$.\n",
    "\n",
    "$\\mathbf{X_1}, \\mathbf{X_5}, \\mathbf{X_6}, \\mathbf{X_8}, \\mathbf{X_9}, \\mathbf{X_{10}}$ podem ser vistos na imagem 1, portanto devemos adquirir suas coordenadas do espaço objeto, ou seja, $\\mathbf{u_{11}}, \\mathbf{u_{15}}, \\mathbf{u_{16}}, \\mathbf{u_{18}}, \\mathbf{u_{19}},\\mathbf{u_{1-10}}$, bem como organizar o relê $\\mathcal{X}$ da seguinte maneira $[\\mathcal{X_{11}}, \\mathcal{X_{15}}, \\mathcal{X_{16}}, \\mathcal{X_{18}}, \\mathcal{X_{19}},\\mathcal{X_{1-10}}] =1$ e nos demais casos, 0.\n",
    "\n",
    "$\\mathbf{X_1}, \\mathbf{X_3}, \\mathbf{X_5}, \\mathbf{X_6}, \\mathbf{X_8}, \\mathbf{X_9},\\mathbf{X_{10}},  \\mathbf{X_{13}}, \\mathbf{X_{14}}, \\mathbf{X_{15}}$ podem ser vistos na imagem 2, portanto devemos adquirir suas coordenadas do espaço objeto, ou seja, \n",
    "$\\mathbf{u_{21}}, \\mathbf{u_{25}}, \\mathbf{u_{26}},\\mathbf{u_{28}}, \\mathbf{u_{29}}, \\mathbf{u_{2-10}}, \\mathbf{u_{2-13}}, \\mathbf{u_{2-14}}, \\mathbf{u_{2-15}} $, bem como organizar o relê $\\mathcal{X}$ da seguinte maneira \n",
    "$[\\mathcal{X_{21}}, \\mathcal{X_{25}}, \\mathcal{X_{26}}, \\mathcal{X_{28}}, \\mathcal{X_{29}}, \\mathcal{X_{2-10}}, \\mathcal{X_{2-13}}, \\mathcal{X_{2-14}}, \\mathcal{X_{2-15}}] =1$ e nos demais casos, 0. E assim por diante.\n",
    "\n",
    "A matriz das derivadas parciais $A$ seria do formato $(2NO \\times 4+6N+3M) = (2*6*16 \\times 4+6*6+3*4)  = ( 192 \\times 52)$ ."
   ]
  },
  {
   "cell_type": "markdown",
   "id": "9ef25b53",
   "metadata": {},
   "source": [
    "## 2. Técnicas de coorrespondência automática de pontos entre imagens sobrepostas"
   ]
  },
  {
   "cell_type": "markdown",
   "id": "1b266d2b",
   "metadata": {},
   "source": [
    "Existem diversos algoritmos ques objetivam buscar por pontos correspondentes: \n",
    "- Scale Invariant Feature Transform (SIFT);\n",
    "- Speeded-Up Robust Features (SURF);\n",
    "- Oriented FAST and Rotated BRIEF (ORB);\n",
    "- Detector-Free Local Feature Matching with Transformers (LoFTR) - https://github.com/zju3dv/LoFTR;\n",
    "- Self-Supervised Interest Point Detection and Description (SuperPoint) - https://github.com/rpautrat/SuperPoint;\n",
    "- Grid-Based Motion Statistics for Fast, Ultra-Robust Feature Correspondence (GMS) - https://github.com/germain-hug/GMS-Feature-Correspondence\n",
    "- ...\n",
    "\n",
    "<img src=\"data/SIFT.png\">\n",
    "\n",
    "O ganho em quantidade de pontos correspondentes é seguido pela inserção de outliers indesejados."
   ]
  },
  {
   "cell_type": "markdown",
   "id": "459dda3d",
   "metadata": {},
   "source": [
    "### Exemplo"
   ]
  },
  {
   "cell_type": "markdown",
   "id": "55477663",
   "metadata": {},
   "source": [
    "<b>SIFT</b>"
   ]
  },
  {
   "cell_type": "code",
   "execution_count": null,
   "id": "cba08dae",
   "metadata": {},
   "outputs": [],
   "source": [
    "# Load the images\n",
    "img = []\n",
    "img.append(f'aux_data/FOTOS_VOO_2GPTE/DJI_0019.JPG')\n",
    "img.append(f'aux_data/FOTOS_VOO_2GPTE/DJI_0020.JPG')\n",
    "\n",
    "import matplotlib.pyplot as plt\n",
    "import numpy as np\n",
    "import cv2\n",
    "\n",
    "\n",
    "###### Resize to be more fast\n",
    "def resize(img):\n",
    "    original_height, original_width = img.shape[:2]\n",
    "    \n",
    "    # Define new width while maintaining the aspect ratio\n",
    "    new_width = 600\n",
    "    aspect_ratio = new_width / original_width\n",
    "    new_height = int(original_height * aspect_ratio)  # Compute height based on aspect ratio\n",
    "    \n",
    "    # Resize the image\n",
    "    return cv2.resize(img, (new_width, new_height))\n",
    "\n",
    "\n",
    "img0_raw = cv2.imread(img[0])\n",
    "img0_raw = resize(img0_raw)\n",
    "img0_rgb = cv2.cvtColor(img0_raw, cv2.COLOR_BGR2RGB)\n",
    "img0_gray = cv2.cvtColor(img0_raw, cv2.COLOR_BGR2GRAY)\n",
    "\n",
    "img1_raw = cv2.imread(img[1])\n",
    "img1_raw = resize(img1_raw)\n",
    "img1_rgb = cv2.cvtColor(img1_raw, cv2.COLOR_BGR2RGB)\n",
    "img1_gray = cv2.cvtColor(img1_raw, cv2.COLOR_BGR2GRAY)\n",
    "\n",
    "# Detect keypoints and compute descriptors\n",
    "sift = cv2.SIFT_create()\n",
    "\n",
    "# Detect keypoints and compute descriptors\n",
    "kp0, des0 = sift.detectAndCompute(img0_gray,None)\n",
    "img0 = cv2.drawKeypoints(img0_rgb, kp0, img0_raw)\n",
    "kp1, des1 = sift.detectAndCompute(img1_gray,None)\n",
    "img1 = cv2.drawKeypoints(img1_rgb, kp1, img1_raw)\n",
    "\n",
    "bf = cv2.BFMatcher()\n",
    "# Match descriptors.\n",
    "matches = bf.match(des0,des1)\n",
    "# Sort them in the order of their distances. --> Lower is better\n",
    "matches = sorted(matches, key = lambda x:x.distance)\n",
    "print(\"Matches\",len(matches))\n",
    "k = 10\n",
    "print(f\"Mostrabdo os {k} melhores:\")\n",
    "\n",
    "img3 = cv2.drawMatches(img0_rgb,kp0,img1_rgb,kp1,matches[:k],None,\n",
    "                              matchColor=(0, 0, 0),\n",
    "                              flags=cv2.DrawMatchesFlags_NOT_DRAW_SINGLE_POINTS)\n",
    "\n",
    "f, a = plt.subplots(figsize = (20,15))\n",
    "# Draw a vertical line at the half of the width\n",
    "a.axvline(x=img0_raw.shape[1], color='red', linestyle='--', linewidth=2)\n",
    "# a.axis('off')\n",
    "plt.imshow(img3)\n",
    "plt.show()\n",
    "\n",
    "list_kp0 = [kp0[mat.queryIdx].pt for mat in matches]\n",
    "list_kp1 = [kp1[mat.trainIdx].pt for mat in matches]\n",
    "\n",
    "for i in range(0, len(matches[:k])):\n",
    "    print(list_kp0[i],\"=\",list_kp1[i])"
   ]
  }
 ],
 "metadata": {
  "kernelspec": {
   "display_name": "base",
   "language": "python",
   "name": "python3"
  },
  "language_info": {
   "codemirror_mode": {
    "name": "ipython",
    "version": 3
   },
   "file_extension": ".py",
   "mimetype": "text/x-python",
   "name": "python",
   "nbconvert_exporter": "python",
   "pygments_lexer": "ipython3",
   "version": "3.12.3"
  }
 },
 "nbformat": 4,
 "nbformat_minor": 5
}
