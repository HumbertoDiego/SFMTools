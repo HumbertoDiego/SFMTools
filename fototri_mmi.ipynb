{
 "cells": [
  {
   "cell_type": "markdown",
   "id": "a10b9c3f",
   "metadata": {},
   "source": [
    "# Fototriangulação pelo método dos modelos independentes"
   ]
  },
  {
   "cell_type": "markdown",
   "id": "86596d14",
   "metadata": {},
   "source": [
    "Geração de dois ou mais modelos fotogramétricos separadamente, cada um com seu próprio sistema de coordenadas, e depois alinhados (ajustados) entre si para formar uma rede contínua de pontos.\n",
    "\n",
    "Objetiva determinar as coordenadas 3D de pontos no terreno a partir de várias fotografias aéreas, formando vários pares estereoscópicos."
   ]
  },
  {
   "cell_type": "code",
   "execution_count": null,
   "id": "7cb37b40",
   "metadata": {},
   "outputs": [],
   "source": []
  }
 ],
 "metadata": {
  "kernelspec": {
   "display_name": "base",
   "language": "python",
   "name": "python3"
  },
  "language_info": {
   "codemirror_mode": {
    "name": "ipython",
    "version": 3
   },
   "file_extension": ".py",
   "mimetype": "text/x-python",
   "name": "python",
   "nbconvert_exporter": "python",
   "pygments_lexer": "ipython3",
   "version": "3.12.7"
  }
 },
 "nbformat": 4,
 "nbformat_minor": 5
}
